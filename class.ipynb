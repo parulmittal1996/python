{
 "cells": [
  {
   "cell_type": "code",
   "execution_count": 7,
   "metadata": {},
   "outputs": [],
   "source": [
    "class school:                           #define class as school and init is constructor\n",
    "    def __init__(self):\n",
    "        print(\"ABC school\")\n",
    "    def student(self):\n",
    "        print(\"At\")\n",
    "    def st_class (self):\n",
    "        print(\"6th class\")"
   ]
  },
  {
   "cell_type": "code",
   "execution_count": 8,
   "metadata": {},
   "outputs": [
    {
     "name": "stdout",
     "output_type": "stream",
     "text": [
      "ABC school\n"
     ]
    }
   ],
   "source": [
    "k = school()                                 # k is an object"
   ]
  },
  {
   "cell_type": "code",
   "execution_count": 9,
   "metadata": {},
   "outputs": [
    {
     "name": "stdout",
     "output_type": "stream",
     "text": [
      "At\n"
     ]
    }
   ],
   "source": [
    "k.student()                                    #calling function with object"
   ]
  },
  {
   "cell_type": "code",
   "execution_count": 10,
   "metadata": {},
   "outputs": [
    {
     "name": "stdout",
     "output_type": "stream",
     "text": [
      "6th class\n"
     ]
    }
   ],
   "source": [
    "k.st_class()"
   ]
  },
  {
   "cell_type": "code",
   "execution_count": 12,
   "metadata": {},
   "outputs": [],
   "source": [
    "class human:\n",
    "    def  __init__(self,age,name):\n",
    "        self.age = age\n",
    "        self.name = name\n",
    "        print(self.name)\n",
    "    def information(self):\n",
    "        print(\"name is\", self.name, \"age is\", self.age)"
   ]
  },
  {
   "cell_type": "code",
   "execution_count": 13,
   "metadata": {},
   "outputs": [
    {
     "name": "stdout",
     "output_type": "stream",
     "text": [
      "parul\n",
      "<__main__.human object at 0x0000022B87C3E780>\n"
     ]
    }
   ],
   "source": [
    "k = human(26,\"parul\")\n",
    "print(k)"
   ]
  },
  {
   "cell_type": "code",
   "execution_count": 14,
   "metadata": {},
   "outputs": [
    {
     "name": "stdout",
     "output_type": "stream",
     "text": [
      "name is parul age is 26\n",
      "<__main__.human object at 0x0000022B87C3E780>\n"
     ]
    }
   ],
   "source": [
    "k.information()\n",
    "print(k)"
   ]
  },
  {
   "cell_type": "code",
   "execution_count": 15,
   "metadata": {},
   "outputs": [
    {
     "name": "stdout",
     "output_type": "stream",
     "text": [
      "rahul\n",
      "<__main__.human object at 0x0000022B87C3EBA8>\n"
     ]
    }
   ],
   "source": [
    "p = human(25,\"rahul\")\n",
    "print(p)\n"
   ]
  },
  {
   "cell_type": "code",
   "execution_count": 16,
   "metadata": {},
   "outputs": [
    {
     "name": "stdout",
     "output_type": "stream",
     "text": [
      "name is rahul age is 25\n"
     ]
    }
   ],
   "source": [
    "p.information()"
   ]
  },
  {
   "cell_type": "code",
   "execution_count": null,
   "metadata": {},
   "outputs": [],
   "source": []
  },
  {
   "cell_type": "code",
   "execution_count": 51,
   "metadata": {},
   "outputs": [],
   "source": [
    "class xyz:\n",
    "    def __init__(self,x,y,z):\n",
    "        self.x = x\n",
    "        self.y = y\n",
    "        self.z = z\n",
    "        self.d = 0\n",
    "        \n",
    "    def lcm1(self):\n",
    "        if (self.x>self.y):\n",
    "            a  = self.x\n",
    "        else:\n",
    "            a = self.y\n",
    "        p = self.x *self.y\n",
    "        p = p+1\n",
    "        for i in range(a, p):\n",
    "            if(i%self.x == 0 and i%self.y == 0):\n",
    "                self.d = i\n",
    "                print(self.d)\n",
    "                break\n",
    "                \n",
    "    def multiply(self):\n",
    "        e =self.d * self.z\n",
    "        print(e)"
   ]
  },
  {
   "cell_type": "code",
   "execution_count": 52,
   "metadata": {},
   "outputs": [],
   "source": [
    "k = xyz(4,5,9)"
   ]
  },
  {
   "cell_type": "code",
   "execution_count": 53,
   "metadata": {},
   "outputs": [
    {
     "name": "stdout",
     "output_type": "stream",
     "text": [
      "20\n"
     ]
    }
   ],
   "source": [
    "k.lcm1()"
   ]
  },
  {
   "cell_type": "code",
   "execution_count": 54,
   "metadata": {},
   "outputs": [
    {
     "name": "stdout",
     "output_type": "stream",
     "text": [
      "180\n"
     ]
    }
   ],
   "source": [
    "k.multiply()"
   ]
  },
  {
   "cell_type": "code",
   "execution_count": null,
   "metadata": {},
   "outputs": [],
   "source": []
  },
  {
   "cell_type": "code",
   "execution_count": 55,
   "metadata": {},
   "outputs": [],
   "source": [
    "class xyz:\n",
    "    def __init__(self,x,y):\n",
    "        self.x = x\n",
    "        self.y = y\n",
    "        \n",
    "        self.d = 0\n",
    "        \n",
    "    def lcm1(self):\n",
    "        if (self.x>self.y):\n",
    "            a  = self.x\n",
    "        else:\n",
    "            a = self.y\n",
    "        p = self.x *self.y\n",
    "        p = p+1\n",
    "        for i in range(a, p):\n",
    "            if(i%self.x == 0 and i%self.y == 0):\n",
    "                self.d = i\n",
    "                print(self.d)\n",
    "                break\n",
    "                \n",
    "    def multiply(self,z):\n",
    "        self.z = z\n",
    "        e =self.d * self.z\n",
    "        print(e)"
   ]
  },
  {
   "cell_type": "code",
   "execution_count": 57,
   "metadata": {},
   "outputs": [],
   "source": [
    "k = xyz(4,5)\n"
   ]
  },
  {
   "cell_type": "code",
   "execution_count": 58,
   "metadata": {},
   "outputs": [
    {
     "name": "stdout",
     "output_type": "stream",
     "text": [
      "20\n"
     ]
    }
   ],
   "source": [
    "k.lcm1()"
   ]
  },
  {
   "cell_type": "code",
   "execution_count": 59,
   "metadata": {},
   "outputs": [
    {
     "name": "stdout",
     "output_type": "stream",
     "text": [
      "80\n"
     ]
    }
   ],
   "source": [
    "k.multiply(4)"
   ]
  },
  {
   "cell_type": "code",
   "execution_count": null,
   "metadata": {},
   "outputs": [],
   "source": []
  },
  {
   "cell_type": "code",
   "execution_count": 82,
   "metadata": {},
   "outputs": [],
   "source": [
    "class xyz:\n",
    "    def __init__(self,x,y,ad):\n",
    "        self.x = x\n",
    "        self.y = y\n",
    "        self.d = 0\n",
    "        self.k = 0\n",
    "        self.m = 0\n",
    "        self.ad = ad\n",
    "    def lcm1(self):\n",
    "        if (self.x>self.y):\n",
    "            a  = self.x\n",
    "        else:\n",
    "            a = self.y\n",
    "        p = self.x *self.y\n",
    "        p = p+1\n",
    "        for i in range(a, p):\n",
    "            if(i%self.x == 0 and i%self.y == 0):\n",
    "                self.d = i\n",
    "                print(self.d)\n",
    "                break\n",
    "    def hcf(self):\n",
    "        if (self.x<self.y):\n",
    "            self.k = self.x\n",
    "        else:\n",
    "            self.y = self.y\n",
    "        while (self.k>0):\n",
    "            if (self.x%self.k==0 and self.y%self.k==0):\n",
    "                self.m = self.k\n",
    "                print(self.k)\n",
    "                break\n",
    "    def compare(self):\n",
    "        if (self.d>self.ad):\n",
    "            print(self.ad, \"is smaller than lcm\", self.d)\n",
    "        elif(self.d<self.ad):\n",
    "            print(self.ad, \"is greater than lcm\", self.d)\n",
    "        elif(self.k>self.ad):\n",
    "            print(self.ad, \"is smaller than hcf\", self.k)\n",
    "        else:\n",
    "            print(self.ad, \"is greater than hcf\", self.k)\n",
    "        \n",
    "            "
   ]
  },
  {
   "cell_type": "code",
   "execution_count": 83,
   "metadata": {},
   "outputs": [],
   "source": [
    "o = xyz(15,45,20)"
   ]
  },
  {
   "cell_type": "code",
   "execution_count": 84,
   "metadata": {},
   "outputs": [
    {
     "name": "stdout",
     "output_type": "stream",
     "text": [
      "45\n"
     ]
    }
   ],
   "source": [
    "o.lcm1()"
   ]
  },
  {
   "cell_type": "code",
   "execution_count": 85,
   "metadata": {},
   "outputs": [
    {
     "name": "stdout",
     "output_type": "stream",
     "text": [
      "15\n"
     ]
    }
   ],
   "source": [
    "o.hcf()"
   ]
  },
  {
   "cell_type": "code",
   "execution_count": 86,
   "metadata": {},
   "outputs": [
    {
     "name": "stdout",
     "output_type": "stream",
     "text": [
      "20 is smaller than lcm 45\n"
     ]
    }
   ],
   "source": [
    "o.compare()"
   ]
  },
  {
   "cell_type": "code",
   "execution_count": null,
   "metadata": {},
   "outputs": [],
   "source": []
  },
  {
   "cell_type": "code",
   "execution_count": null,
   "metadata": {},
   "outputs": [],
   "source": []
  },
  {
   "cell_type": "code",
   "execution_count": null,
   "metadata": {},
   "outputs": [],
   "source": []
  }
 ],
 "metadata": {
  "kernelspec": {
   "display_name": "Python 3",
   "language": "python",
   "name": "python3"
  },
  "language_info": {
   "codemirror_mode": {
    "name": "ipython",
    "version": 3
   },
   "file_extension": ".py",
   "mimetype": "text/x-python",
   "name": "python",
   "nbconvert_exporter": "python",
   "pygments_lexer": "ipython3",
   "version": "3.7.3"
  }
 },
 "nbformat": 4,
 "nbformat_minor": 2
}
