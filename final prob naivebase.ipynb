{
 "cells": [
  {
   "cell_type": "code",
   "execution_count": 6,
   "metadata": {},
   "outputs": [
    {
     "data": {
      "text/html": [
       "<div>\n",
       "<style scoped>\n",
       "    .dataframe tbody tr th:only-of-type {\n",
       "        vertical-align: middle;\n",
       "    }\n",
       "\n",
       "    .dataframe tbody tr th {\n",
       "        vertical-align: top;\n",
       "    }\n",
       "\n",
       "    .dataframe thead th {\n",
       "        text-align: right;\n",
       "    }\n",
       "</style>\n",
       "<table border=\"1\" class=\"dataframe\">\n",
       "  <thead>\n",
       "    <tr style=\"text-align: right;\">\n",
       "      <th></th>\n",
       "      <th>outlook</th>\n",
       "      <th>temp</th>\n",
       "      <th>Humidity</th>\n",
       "      <th>Wind</th>\n",
       "      <th>Plat Tennis</th>\n",
       "    </tr>\n",
       "  </thead>\n",
       "  <tbody>\n",
       "    <tr>\n",
       "      <th>0</th>\n",
       "      <td>Sunny</td>\n",
       "      <td>hot</td>\n",
       "      <td>high</td>\n",
       "      <td>weak</td>\n",
       "      <td>no</td>\n",
       "    </tr>\n",
       "    <tr>\n",
       "      <th>1</th>\n",
       "      <td>Sunny</td>\n",
       "      <td>hot</td>\n",
       "      <td>high</td>\n",
       "      <td>strong</td>\n",
       "      <td>no</td>\n",
       "    </tr>\n",
       "    <tr>\n",
       "      <th>2</th>\n",
       "      <td>overcast</td>\n",
       "      <td>hot</td>\n",
       "      <td>high</td>\n",
       "      <td>weak</td>\n",
       "      <td>yes</td>\n",
       "    </tr>\n",
       "    <tr>\n",
       "      <th>3</th>\n",
       "      <td>Rain</td>\n",
       "      <td>mild</td>\n",
       "      <td>high</td>\n",
       "      <td>weak</td>\n",
       "      <td>yes</td>\n",
       "    </tr>\n",
       "    <tr>\n",
       "      <th>4</th>\n",
       "      <td>Rain</td>\n",
       "      <td>cool</td>\n",
       "      <td>normal</td>\n",
       "      <td>weak</td>\n",
       "      <td>yes</td>\n",
       "    </tr>\n",
       "    <tr>\n",
       "      <th>5</th>\n",
       "      <td>Rain</td>\n",
       "      <td>cool</td>\n",
       "      <td>normal</td>\n",
       "      <td>strong</td>\n",
       "      <td>no</td>\n",
       "    </tr>\n",
       "    <tr>\n",
       "      <th>6</th>\n",
       "      <td>overcast</td>\n",
       "      <td>cool</td>\n",
       "      <td>normal</td>\n",
       "      <td>strong</td>\n",
       "      <td>yes</td>\n",
       "    </tr>\n",
       "    <tr>\n",
       "      <th>7</th>\n",
       "      <td>Sunny</td>\n",
       "      <td>mild</td>\n",
       "      <td>high</td>\n",
       "      <td>weak</td>\n",
       "      <td>no</td>\n",
       "    </tr>\n",
       "    <tr>\n",
       "      <th>8</th>\n",
       "      <td>Sunny</td>\n",
       "      <td>cool</td>\n",
       "      <td>normal</td>\n",
       "      <td>weak</td>\n",
       "      <td>yes</td>\n",
       "    </tr>\n",
       "    <tr>\n",
       "      <th>9</th>\n",
       "      <td>Rain</td>\n",
       "      <td>mild</td>\n",
       "      <td>normal</td>\n",
       "      <td>weak</td>\n",
       "      <td>yes</td>\n",
       "    </tr>\n",
       "    <tr>\n",
       "      <th>10</th>\n",
       "      <td>Sunny</td>\n",
       "      <td>mild</td>\n",
       "      <td>normal</td>\n",
       "      <td>strong</td>\n",
       "      <td>yes</td>\n",
       "    </tr>\n",
       "    <tr>\n",
       "      <th>11</th>\n",
       "      <td>overcast</td>\n",
       "      <td>mild</td>\n",
       "      <td>high</td>\n",
       "      <td>strong</td>\n",
       "      <td>yes</td>\n",
       "    </tr>\n",
       "    <tr>\n",
       "      <th>12</th>\n",
       "      <td>overcast</td>\n",
       "      <td>hot</td>\n",
       "      <td>normal</td>\n",
       "      <td>weak</td>\n",
       "      <td>yes</td>\n",
       "    </tr>\n",
       "    <tr>\n",
       "      <th>13</th>\n",
       "      <td>Rain</td>\n",
       "      <td>mild</td>\n",
       "      <td>high</td>\n",
       "      <td>strong</td>\n",
       "      <td>no</td>\n",
       "    </tr>\n",
       "  </tbody>\n",
       "</table>\n",
       "</div>"
      ],
      "text/plain": [
       "     outlook  temp Humidity    Wind Plat Tennis\n",
       "0      Sunny   hot     high    weak          no\n",
       "1      Sunny   hot     high  strong          no\n",
       "2   overcast   hot     high    weak         yes\n",
       "3       Rain  mild     high    weak         yes\n",
       "4       Rain  cool   normal    weak         yes\n",
       "5       Rain  cool   normal  strong          no\n",
       "6   overcast  cool   normal  strong         yes\n",
       "7      Sunny  mild     high    weak          no\n",
       "8      Sunny  cool   normal    weak         yes\n",
       "9       Rain  mild   normal    weak         yes\n",
       "10     Sunny  mild   normal  strong         yes\n",
       "11  overcast  mild     high  strong         yes\n",
       "12  overcast   hot   normal    weak         yes\n",
       "13      Rain  mild     high  strong          no"
      ]
     },
     "execution_count": 6,
     "metadata": {},
     "output_type": "execute_result"
    }
   ],
   "source": [
    "import pandas as pd\n",
    "data = pd.read_csv(\"nv.csv\")\n",
    "data"
   ]
  },
  {
   "cell_type": "code",
   "execution_count": 7,
   "metadata": {},
   "outputs": [
    {
     "name": "stdout",
     "output_type": "stream",
     "text": [
      "9\n",
      "5\n",
      "0.6428571428571429\n",
      "0.35714285714285715\n"
     ]
    }
   ],
   "source": [
    "y = data[\"Plat Tennis\"]\n",
    "k = 0\n",
    "p=0\n",
    "for i in y:\n",
    "    if (i==\"yes\"):\n",
    "        k =k+1\n",
    "    else:\n",
    "        p=p+1\n",
    "print(k)\n",
    "print(p)\n",
    "prob_yes = k/len(y)\n",
    "prob_no = p/len(y)\n",
    "print(prob_yes)\n",
    "print(prob_no)"
   ]
  },
  {
   "cell_type": "code",
   "execution_count": 8,
   "metadata": {},
   "outputs": [
    {
     "name": "stdout",
     "output_type": "stream",
     "text": [
      "3.2142857142857144\n",
      "1.7857142857142858\n",
      "2.5714285714285716\n",
      "1.4285714285714286\n",
      "3.2142857142857144\n",
      "1.7857142857142858\n"
     ]
    }
   ],
   "source": [
    "x=data[\"outlook\"]\n",
    "y=data[\"Plat Tennis\"]\n",
    "p=0\n",
    "q=0\n",
    "r=0\n",
    "s=0\n",
    "t=0\n",
    "u=0\n",
    "for i in x:\n",
    "    for j in y:\n",
    "        if(i==\"Sunny\"):\n",
    "            if(j==\"yes\"):\n",
    "                p=p+1\n",
    "            else:\n",
    "                q=q+1\n",
    "        elif(i==\"overcast\"):\n",
    "            if(j==\"yes\"):\n",
    "                r=r+1\n",
    "            else:\n",
    "                s=s+1\n",
    "        elif(i==\"Rain\"):\n",
    "             if(j==\"yes\"):\n",
    "                t=t+1\n",
    "             else:\n",
    "                 u=u+1\n",
    "        else:\n",
    "            pass\n",
    "sy=p/len(x)\n",
    "sn=q/len(x)\n",
    "oy=r/len(x)\n",
    "on=s/len(x)\n",
    "ry=t/len(x)\n",
    "rn=u/len(x)\n",
    "print(sy)\n",
    "print(sn)\n",
    "print(oy)\n",
    "print(on)\n",
    "print(ry)\n",
    "print(rn)"
   ]
  },
  {
   "cell_type": "code",
   "execution_count": 9,
   "metadata": {},
   "outputs": [
    {
     "data": {
      "text/plain": [
       "(14, 4)"
      ]
     },
     "execution_count": 9,
     "metadata": {},
     "output_type": "execute_result"
    }
   ],
   "source": [
    "y = data[\"Plat Tennis\"]\n",
    "x = data.drop(\"Plat Tennis\", axis = 1)\n",
    "p =x.shape\n",
    "p"
   ]
  },
  {
   "cell_type": "code",
   "execution_count": 10,
   "metadata": {},
   "outputs": [
    {
     "name": "stdout",
     "output_type": "stream",
     "text": [
      "['outlook']\n",
      "[{'overcast'}, 4, 'yes', 4, 'no', 0, {'Sunny'}, 5, 'yes', 2, 'no', 3, {'Rain'}, 5, 'yes', 3, 'no', 2]\n",
      "['temp']\n",
      "[{'hot'}, 4, 'yes', 2, 'no', 2, {'cool'}, 4, 'yes', 3, 'no', 1, {'mild'}, 6, 'yes', 4, 'no', 2]\n",
      "['Humidity']\n",
      "[{'normal'}, 7, 'yes', 6, 'no', 1, {'high'}, 7, 'yes', 3, 'no', 4]\n",
      "['Wind']\n",
      "[{'weak'}, 8, 'yes', 6, 'no', 2, {'strong'}, 6, 'yes', 3, 'no', 3]\n"
     ]
    }
   ],
   "source": [
    "a = []\n",
    "b = []\n",
    "for i in range(0,p[1]):\n",
    "    c = data.columns[i]\n",
    "    sd = set(data[c])\n",
    "    sd =list(sd)\n",
    "    a.append(c)   \n",
    "  \n",
    "    for m in sd:\n",
    "        b.append({m})\n",
    "        \n",
    "        k =0\n",
    "        r = 0\n",
    "        t = 0\n",
    "        for i in range(0,p[0]):\n",
    "            if(data[c][i]==m):\n",
    "                k = k+1\n",
    "                if(y[i]==\"yes\"):\n",
    "                    r= r+1\n",
    "                elif(y[i]==\"no\"):\n",
    "                    t = t+1\n",
    "        b.append(k)\n",
    "        b.append(\"yes\")\n",
    "        b.append(r)\n",
    "        b.append(\"no\")\n",
    "        b.append(t)\n",
    "        \n",
    "    print(a)       \n",
    "    print(b)\n",
    "    a.clear()\n",
    "    b.clear()"
   ]
  },
  {
   "cell_type": "code",
   "execution_count": 11,
   "metadata": {},
   "outputs": [
    {
     "name": "stdout",
     "output_type": "stream",
     "text": [
      "['outlook']\n",
      "[{'overcast'}, 4, 'yes', 4, 'no', 0, {'Sunny'}, 5, 'yes', 2, 'no', 3, {'Rain'}, 5, 'yes', 3, 'no', 2]\n",
      "['temp']\n",
      "[{'hot'}, 4, 'yes', 2, 'no', 2, {'cool'}, 4, 'yes', 3, 'no', 1, {'mild'}, 6, 'yes', 4, 'no', 2]\n",
      "['Humidity']\n",
      "[{'normal'}, 7, 'yes', 6, 'no', 1, {'high'}, 7, 'yes', 3, 'no', 4]\n",
      "['Wind']\n",
      "[{'weak'}, 8, 'yes', 6, 'no', 2, {'strong'}, 6, 'yes', 3, 'no', 3]\n"
     ]
    }
   ],
   "source": [
    "a = []\n",
    "b = []\n",
    "an = {}\n",
    "l = []\n",
    "for i in range(0,p[1]):\n",
    "    c = data.columns[i]\n",
    "    sd = set(data[c])\n",
    "    sd =list(sd)\n",
    "    a.append(c) \n",
    "    \n",
    "    l.append(\"column_name\")\n",
    "    l.append(c)\n",
    "    count_yes =0\n",
    "    count_no =0\n",
    "    for m in sd:\n",
    "        b.append({m})\n",
    "        \n",
    "        k =0\n",
    "        r = 0\n",
    "        t = 0\n",
    "        for i in range(0,p[0]):\n",
    "            if(data[c][i]==m):\n",
    "                k = k+1\n",
    "                if(y[i]==\"yes\"):\n",
    "                    r= r+1\n",
    "                    count_yes = count_yes +1\n",
    "                elif(y[i]==\"no\"):\n",
    "                    t = t+1\n",
    "                    count_no= count_no+1\n",
    "        an.update({m:[k,r,t]})\n",
    "        b.append(k)\n",
    "        b.append(\"yes\")\n",
    "        b.append(r)\n",
    "        b.append(\"no\")\n",
    "        b.append(t)\n",
    "    l.append(count_yes)\n",
    "    l.append(count_no)\n",
    "    print(a)       \n",
    "    print(b)\n",
    "    a.clear()\n",
    "    b.clear()\n",
    "    "
   ]
  },
  {
   "cell_type": "code",
   "execution_count": 12,
   "metadata": {},
   "outputs": [
    {
     "data": {
      "text/plain": [
       "{'overcast': [4, 4, 0],\n",
       " 'Sunny': [5, 2, 3],\n",
       " 'Rain': [5, 3, 2],\n",
       " 'hot': [4, 2, 2],\n",
       " 'cool': [4, 3, 1],\n",
       " 'mild': [6, 4, 2],\n",
       " 'normal': [7, 6, 1],\n",
       " 'high': [7, 3, 4],\n",
       " 'weak': [8, 6, 2],\n",
       " 'strong': [6, 3, 3]}"
      ]
     },
     "execution_count": 12,
     "metadata": {},
     "output_type": "execute_result"
    }
   ],
   "source": [
    "an"
   ]
  },
  {
   "cell_type": "code",
   "execution_count": 13,
   "metadata": {},
   "outputs": [
    {
     "name": "stdout",
     "output_type": "stream",
     "text": [
      "['column_name', 'outlook', 9, 5, 'column_name', 'temp', 9, 5, 'column_name', 'Humidity', 9, 5, 'column_name', 'Wind', 9, 5]\n"
     ]
    }
   ],
   "source": [
    "print(l)"
   ]
  },
  {
   "cell_type": "code",
   "execution_count": 14,
   "metadata": {},
   "outputs": [
    {
     "data": {
      "text/html": [
       "<div>\n",
       "<style scoped>\n",
       "    .dataframe tbody tr th:only-of-type {\n",
       "        vertical-align: middle;\n",
       "    }\n",
       "\n",
       "    .dataframe tbody tr th {\n",
       "        vertical-align: top;\n",
       "    }\n",
       "\n",
       "    .dataframe thead th {\n",
       "        text-align: right;\n",
       "    }\n",
       "</style>\n",
       "<table border=\"1\" class=\"dataframe\">\n",
       "  <thead>\n",
       "    <tr style=\"text-align: right;\">\n",
       "      <th></th>\n",
       "      <th>overcast</th>\n",
       "      <th>Sunny</th>\n",
       "      <th>Rain</th>\n",
       "      <th>hot</th>\n",
       "      <th>cool</th>\n",
       "      <th>mild</th>\n",
       "      <th>normal</th>\n",
       "      <th>high</th>\n",
       "      <th>weak</th>\n",
       "      <th>strong</th>\n",
       "    </tr>\n",
       "  </thead>\n",
       "  <tbody>\n",
       "    <tr>\n",
       "      <th>no.of times</th>\n",
       "      <td>4</td>\n",
       "      <td>5</td>\n",
       "      <td>5</td>\n",
       "      <td>4</td>\n",
       "      <td>4</td>\n",
       "      <td>6</td>\n",
       "      <td>7</td>\n",
       "      <td>7</td>\n",
       "      <td>8</td>\n",
       "      <td>6</td>\n",
       "    </tr>\n",
       "    <tr>\n",
       "      <th>yes</th>\n",
       "      <td>4</td>\n",
       "      <td>2</td>\n",
       "      <td>3</td>\n",
       "      <td>2</td>\n",
       "      <td>3</td>\n",
       "      <td>4</td>\n",
       "      <td>6</td>\n",
       "      <td>3</td>\n",
       "      <td>6</td>\n",
       "      <td>3</td>\n",
       "    </tr>\n",
       "    <tr>\n",
       "      <th>no</th>\n",
       "      <td>0</td>\n",
       "      <td>3</td>\n",
       "      <td>2</td>\n",
       "      <td>2</td>\n",
       "      <td>1</td>\n",
       "      <td>2</td>\n",
       "      <td>1</td>\n",
       "      <td>4</td>\n",
       "      <td>2</td>\n",
       "      <td>3</td>\n",
       "    </tr>\n",
       "  </tbody>\n",
       "</table>\n",
       "</div>"
      ],
      "text/plain": [
       "             overcast  Sunny  Rain  hot  cool  mild  normal  high  weak  \\\n",
       "no.of times         4      5     5    4     4     6       7     7     8   \n",
       "yes                 4      2     3    2     3     4       6     3     6   \n",
       "no                  0      3     2    2     1     2       1     4     2   \n",
       "\n",
       "             strong  \n",
       "no.of times       6  \n",
       "yes               3  \n",
       "no                3  "
      ]
     },
     "execution_count": 14,
     "metadata": {},
     "output_type": "execute_result"
    }
   ],
   "source": [
    "data2 = pd.DataFrame(an,index = [\"no.of times\", \"yes\",\"no\"] )\n",
    "data2"
   ]
  },
  {
   "cell_type": "code",
   "execution_count": 15,
   "metadata": {},
   "outputs": [],
   "source": [
    "p_outlook_overcast_y = 4/9\n",
    "p_outlook_rain_y = 3/9\n",
    "p_outlook_sunny_y = 2/9\n",
    "\n",
    "\n",
    "p_outlook_overcast_n = 0/5\n",
    "p_outlook_rain_n = 2/5\n",
    "p_outlook_sunny_n = 3/5\n",
    "\n",
    "p_temp_hot_y = 2/9\n",
    "p_temp_cool_y = 3/9\n",
    "p_temp_mild_y = 4/9\n",
    "\n",
    "p_temp_hot_n = 2/5\n",
    "p_temp_cool_n = 1/5\n",
    "p_temp_mild_n = 2/5\n",
    "\n",
    "p_humidity_high_y = 3/9\n",
    "p_humidity_normal_y =6/9\n",
    "\n",
    "p_humidity_high_n =4/5\n",
    "p_humidity_normal_n =1/5\n",
    "\n",
    "p_wind_strong_y = 3/9\n",
    "p_wind_weak_y = 6/9\n",
    "\n",
    "p_wind_strong_n = 3/5\n",
    "p_wind_weak_n = 2/5\n"
   ]
  },
  {
   "cell_type": "code",
   "execution_count": 16,
   "metadata": {},
   "outputs": [
    {
     "data": {
      "text/plain": [
       "0.007054673721340387"
      ]
     },
     "execution_count": 16,
     "metadata": {},
     "output_type": "execute_result"
    }
   ],
   "source": [
    "yes_0 = p_outlook_sunny_y*p_temp_hot_y*p_humidity_high_y*p_wind_weak_y*prob_yes\n",
    "yes_0"
   ]
  },
  {
   "cell_type": "code",
   "execution_count": 17,
   "metadata": {},
   "outputs": [
    {
     "data": {
      "text/plain": [
       "0.02742857142857143"
      ]
     },
     "execution_count": 17,
     "metadata": {},
     "output_type": "execute_result"
    }
   ],
   "source": [
    "no_0 = p_outlook_sunny_n*p_temp_hot_n*p_humidity_high_n*p_wind_weak_n*prob_no\n",
    "no_0"
   ]
  },
  {
   "cell_type": "code",
   "execution_count": 18,
   "metadata": {},
   "outputs": [
    {
     "ename": "NameError",
     "evalue": "name 'no' is not defined",
     "output_type": "error",
     "traceback": [
      "\u001b[1;31m---------------------------------------------------------------------------\u001b[0m",
      "\u001b[1;31mNameError\u001b[0m                                 Traceback (most recent call last)",
      "\u001b[1;32m<ipython-input-18-49dddb3b048c>\u001b[0m in \u001b[0;36m<module>\u001b[1;34m\u001b[0m\n\u001b[1;32m----> 1\u001b[1;33m \u001b[0mno\u001b[0m\u001b[1;33m\u001b[0m\u001b[1;33m\u001b[0m\u001b[0m\n\u001b[0m",
      "\u001b[1;31mNameError\u001b[0m: name 'no' is not defined"
     ]
    }
   ],
   "source": [
    "no"
   ]
  },
  {
   "cell_type": "code",
   "execution_count": null,
   "metadata": {},
   "outputs": [],
   "source": []
  },
  {
   "cell_type": "code",
   "execution_count": 19,
   "metadata": {},
   "outputs": [
    {
     "data": {
      "text/plain": [
       "0.0035273368606701934"
      ]
     },
     "execution_count": 19,
     "metadata": {},
     "output_type": "execute_result"
    }
   ],
   "source": [
    "yes_1 = p_outlook_sunny_y*p_temp_hot_y*p_humidity_high_y*p_wind_strong_y*prob_yes\n",
    "yes_1"
   ]
  },
  {
   "cell_type": "code",
   "execution_count": 20,
   "metadata": {},
   "outputs": [
    {
     "data": {
      "text/plain": [
       "0.04114285714285714"
      ]
     },
     "execution_count": 20,
     "metadata": {},
     "output_type": "execute_result"
    }
   ],
   "source": [
    "no_1 = p_outlook_sunny_n*p_temp_hot_n*p_humidity_high_n*p_wind_strong_n*prob_no\n",
    "no_1"
   ]
  },
  {
   "cell_type": "code",
   "execution_count": null,
   "metadata": {},
   "outputs": [],
   "source": [
    "no"
   ]
  },
  {
   "cell_type": "code",
   "execution_count": null,
   "metadata": {},
   "outputs": [],
   "source": []
  },
  {
   "cell_type": "code",
   "execution_count": 21,
   "metadata": {},
   "outputs": [
    {
     "data": {
      "text/plain": [
       "0.014109347442680773"
      ]
     },
     "execution_count": 21,
     "metadata": {},
     "output_type": "execute_result"
    }
   ],
   "source": [
    "yes_2 = p_outlook_overcast_y*p_temp_hot_y*p_humidity_high_y*p_wind_weak_y*prob_yes\n",
    "yes_2"
   ]
  },
  {
   "cell_type": "code",
   "execution_count": 22,
   "metadata": {},
   "outputs": [
    {
     "data": {
      "text/plain": [
       "0.0"
      ]
     },
     "execution_count": 22,
     "metadata": {},
     "output_type": "execute_result"
    }
   ],
   "source": [
    "no_2 = p_outlook_overcast_n*p_temp_hot_n*p_humidity_high_n*p_wind_weak_n*prob_no\n",
    "no_2"
   ]
  },
  {
   "cell_type": "code",
   "execution_count": null,
   "metadata": {},
   "outputs": [],
   "source": [
    "yes"
   ]
  },
  {
   "cell_type": "code",
   "execution_count": null,
   "metadata": {},
   "outputs": [],
   "source": []
  },
  {
   "cell_type": "code",
   "execution_count": 23,
   "metadata": {},
   "outputs": [
    {
     "data": {
      "text/plain": [
       "0.021164021164021163"
      ]
     },
     "execution_count": 23,
     "metadata": {},
     "output_type": "execute_result"
    }
   ],
   "source": [
    "yes_3 = p_outlook_rain_y*p_temp_mild_y*p_humidity_high_y*p_wind_weak_y*prob_yes\n",
    "yes_3"
   ]
  },
  {
   "cell_type": "code",
   "execution_count": 24,
   "metadata": {},
   "outputs": [
    {
     "data": {
      "text/plain": [
       "0.01828571428571429"
      ]
     },
     "execution_count": 24,
     "metadata": {},
     "output_type": "execute_result"
    }
   ],
   "source": [
    "no_3 = p_outlook_rain_n*p_temp_mild_n*p_humidity_high_n*p_wind_weak_n*prob_no\n",
    "no_3"
   ]
  },
  {
   "cell_type": "code",
   "execution_count": null,
   "metadata": {},
   "outputs": [],
   "source": [
    "yes"
   ]
  },
  {
   "cell_type": "code",
   "execution_count": null,
   "metadata": {},
   "outputs": [],
   "source": []
  },
  {
   "cell_type": "code",
   "execution_count": 25,
   "metadata": {},
   "outputs": [
    {
     "data": {
      "text/plain": [
       "0.031746031746031744"
      ]
     },
     "execution_count": 25,
     "metadata": {},
     "output_type": "execute_result"
    }
   ],
   "source": [
    "yes_4 = p_outlook_rain_y*p_temp_cool_y*p_humidity_normal_y*p_wind_weak_y*prob_yes\n",
    "yes_4"
   ]
  },
  {
   "cell_type": "code",
   "execution_count": 26,
   "metadata": {},
   "outputs": [
    {
     "data": {
      "text/plain": [
       "0.0022857142857142863"
      ]
     },
     "execution_count": 26,
     "metadata": {},
     "output_type": "execute_result"
    }
   ],
   "source": [
    "no_4 = p_outlook_rain_n*p_temp_cool_n*p_humidity_normal_n*p_wind_weak_n*prob_no\n",
    "no_4"
   ]
  },
  {
   "cell_type": "code",
   "execution_count": null,
   "metadata": {},
   "outputs": [],
   "source": [
    "yes"
   ]
  },
  {
   "cell_type": "code",
   "execution_count": null,
   "metadata": {},
   "outputs": [],
   "source": []
  },
  {
   "cell_type": "code",
   "execution_count": 27,
   "metadata": {},
   "outputs": [
    {
     "data": {
      "text/plain": [
       "0.015873015873015872"
      ]
     },
     "execution_count": 27,
     "metadata": {},
     "output_type": "execute_result"
    }
   ],
   "source": [
    "yes_5 = p_outlook_rain_y*p_temp_cool_y*p_humidity_normal_y*p_wind_strong_y*prob_yes\n",
    "yes_5"
   ]
  },
  {
   "cell_type": "code",
   "execution_count": 28,
   "metadata": {},
   "outputs": [
    {
     "data": {
      "text/plain": [
       "0.0034285714285714297"
      ]
     },
     "execution_count": 28,
     "metadata": {},
     "output_type": "execute_result"
    }
   ],
   "source": [
    "no_5 = p_outlook_rain_n*p_temp_cool_n*p_humidity_normal_n*p_wind_strong_n*prob_no\n",
    "no_5"
   ]
  },
  {
   "cell_type": "code",
   "execution_count": null,
   "metadata": {},
   "outputs": [],
   "source": [
    "yes"
   ]
  },
  {
   "cell_type": "code",
   "execution_count": null,
   "metadata": {},
   "outputs": [],
   "source": []
  },
  {
   "cell_type": "code",
   "execution_count": 29,
   "metadata": {},
   "outputs": [
    {
     "data": {
      "text/plain": [
       "0.021164021164021163"
      ]
     },
     "execution_count": 29,
     "metadata": {},
     "output_type": "execute_result"
    }
   ],
   "source": [
    "yes_6 = p_outlook_overcast_y*p_temp_cool_y*p_humidity_normal_y*p_wind_strong_y*prob_yes\n",
    "yes_6"
   ]
  },
  {
   "cell_type": "code",
   "execution_count": 30,
   "metadata": {},
   "outputs": [
    {
     "data": {
      "text/plain": [
       "0.0"
      ]
     },
     "execution_count": 30,
     "metadata": {},
     "output_type": "execute_result"
    }
   ],
   "source": [
    "no_6 = p_outlook_overcast_n*p_temp_cool_n*p_humidity_normal_n*p_wind_strong_n*prob_no\n",
    "no_6"
   ]
  },
  {
   "cell_type": "code",
   "execution_count": null,
   "metadata": {},
   "outputs": [],
   "source": [
    "yes"
   ]
  },
  {
   "cell_type": "code",
   "execution_count": null,
   "metadata": {},
   "outputs": [],
   "source": []
  },
  {
   "cell_type": "code",
   "execution_count": 31,
   "metadata": {},
   "outputs": [
    {
     "data": {
      "text/plain": [
       "0.014109347442680773"
      ]
     },
     "execution_count": 31,
     "metadata": {},
     "output_type": "execute_result"
    }
   ],
   "source": [
    "yes_7 = p_outlook_sunny_y*p_temp_mild_y*p_humidity_high_y*p_wind_weak_y*prob_yes\n",
    "yes_7"
   ]
  },
  {
   "cell_type": "code",
   "execution_count": 32,
   "metadata": {},
   "outputs": [
    {
     "data": {
      "text/plain": [
       "0.02742857142857143"
      ]
     },
     "execution_count": 32,
     "metadata": {},
     "output_type": "execute_result"
    }
   ],
   "source": [
    "no_7 = p_outlook_sunny_n*p_temp_mild_n*p_humidity_high_n*p_wind_weak_n*prob_no\n",
    "no_7"
   ]
  },
  {
   "cell_type": "code",
   "execution_count": null,
   "metadata": {},
   "outputs": [],
   "source": [
    "no"
   ]
  },
  {
   "cell_type": "code",
   "execution_count": null,
   "metadata": {},
   "outputs": [],
   "source": []
  },
  {
   "cell_type": "code",
   "execution_count": 35,
   "metadata": {},
   "outputs": [
    {
     "data": {
      "text/plain": [
       "0.021164021164021163"
      ]
     },
     "execution_count": 35,
     "metadata": {},
     "output_type": "execute_result"
    }
   ],
   "source": [
    "yes_8 = p_outlook_sunny_y*p_temp_cool_y*p_humidity_normal_y*p_wind_weak_y*prob_yes\n",
    "yes_8"
   ]
  },
  {
   "cell_type": "code",
   "execution_count": 36,
   "metadata": {},
   "outputs": [
    {
     "data": {
      "text/plain": [
       "0.003428571428571429"
      ]
     },
     "execution_count": 36,
     "metadata": {},
     "output_type": "execute_result"
    }
   ],
   "source": [
    "no_8 = p_outlook_sunny_n*p_temp_cool_n*p_humidity_normal_n*p_wind_weak_n*prob_no\n",
    "no_8"
   ]
  },
  {
   "cell_type": "code",
   "execution_count": 34,
   "metadata": {},
   "outputs": [
    {
     "ename": "NameError",
     "evalue": "name 'yes' is not defined",
     "output_type": "error",
     "traceback": [
      "\u001b[1;31m---------------------------------------------------------------------------\u001b[0m",
      "\u001b[1;31mNameError\u001b[0m                                 Traceback (most recent call last)",
      "\u001b[1;32m<ipython-input-34-084d24bbed96>\u001b[0m in \u001b[0;36m<module>\u001b[1;34m\u001b[0m\n\u001b[1;32m----> 1\u001b[1;33m \u001b[0myes\u001b[0m\u001b[1;33m\u001b[0m\u001b[1;33m\u001b[0m\u001b[0m\n\u001b[0m",
      "\u001b[1;31mNameError\u001b[0m: name 'yes' is not defined"
     ]
    }
   ],
   "source": [
    "yes"
   ]
  },
  {
   "cell_type": "code",
   "execution_count": null,
   "metadata": {},
   "outputs": [],
   "source": []
  },
  {
   "cell_type": "code",
   "execution_count": 37,
   "metadata": {},
   "outputs": [
    {
     "data": {
      "text/plain": [
       "0.042328042328042326"
      ]
     },
     "execution_count": 37,
     "metadata": {},
     "output_type": "execute_result"
    }
   ],
   "source": [
    "yes_9 = p_outlook_rain_y*p_temp_mild_y*p_humidity_normal_y*p_wind_weak_y*prob_yes\n",
    "yes_9"
   ]
  },
  {
   "cell_type": "code",
   "execution_count": 38,
   "metadata": {},
   "outputs": [
    {
     "data": {
      "text/plain": [
       "0.004571428571428573"
      ]
     },
     "execution_count": 38,
     "metadata": {},
     "output_type": "execute_result"
    }
   ],
   "source": [
    "no_9 = p_outlook_rain_n*p_temp_mild_n*p_humidity_normal_n*p_wind_weak_n*prob_no\n",
    "no_9"
   ]
  },
  {
   "cell_type": "code",
   "execution_count": null,
   "metadata": {},
   "outputs": [],
   "source": [
    "yes"
   ]
  },
  {
   "cell_type": "code",
   "execution_count": null,
   "metadata": {},
   "outputs": [],
   "source": []
  },
  {
   "cell_type": "code",
   "execution_count": 39,
   "metadata": {},
   "outputs": [
    {
     "data": {
      "text/plain": [
       "0.014109347442680773"
      ]
     },
     "execution_count": 39,
     "metadata": {},
     "output_type": "execute_result"
    }
   ],
   "source": [
    "yes_10 = p_outlook_sunny_y*p_temp_mild_y*p_humidity_normal_y*p_wind_strong_y*prob_yes\n",
    "yes_10"
   ]
  },
  {
   "cell_type": "code",
   "execution_count": 40,
   "metadata": {},
   "outputs": [
    {
     "data": {
      "text/plain": [
       "0.010285714285714285"
      ]
     },
     "execution_count": 40,
     "metadata": {},
     "output_type": "execute_result"
    }
   ],
   "source": [
    "no_10 = p_outlook_sunny_n*p_temp_mild_n*p_humidity_normal_n*p_wind_strong_n*prob_no\n",
    "no_10"
   ]
  },
  {
   "cell_type": "code",
   "execution_count": null,
   "metadata": {},
   "outputs": [],
   "source": [
    "yes"
   ]
  },
  {
   "cell_type": "code",
   "execution_count": null,
   "metadata": {},
   "outputs": [],
   "source": []
  },
  {
   "cell_type": "code",
   "execution_count": 41,
   "metadata": {},
   "outputs": [
    {
     "data": {
      "text/plain": [
       "0.014109347442680773"
      ]
     },
     "execution_count": 41,
     "metadata": {},
     "output_type": "execute_result"
    }
   ],
   "source": [
    "yes_11 = p_outlook_overcast_y*p_temp_mild_y*p_humidity_high_y*p_wind_strong_y*prob_yes\n",
    "yes_11"
   ]
  },
  {
   "cell_type": "code",
   "execution_count": 42,
   "metadata": {},
   "outputs": [
    {
     "data": {
      "text/plain": [
       "0.0"
      ]
     },
     "execution_count": 42,
     "metadata": {},
     "output_type": "execute_result"
    }
   ],
   "source": [
    "no_11 = p_outlook_overcast_n*p_temp_mild_n*p_humidity_high_n*p_wind_strong_n*prob_no\n",
    "no_11"
   ]
  },
  {
   "cell_type": "code",
   "execution_count": null,
   "metadata": {},
   "outputs": [],
   "source": [
    "yes"
   ]
  },
  {
   "cell_type": "code",
   "execution_count": null,
   "metadata": {},
   "outputs": [],
   "source": []
  },
  {
   "cell_type": "code",
   "execution_count": 43,
   "metadata": {},
   "outputs": [
    {
     "data": {
      "text/plain": [
       "0.028218694885361547"
      ]
     },
     "execution_count": 43,
     "metadata": {},
     "output_type": "execute_result"
    }
   ],
   "source": [
    "yes_12 = p_outlook_overcast_y*p_temp_hot_y*p_humidity_normal_y*p_wind_weak_y*prob_yes\n",
    "yes_12"
   ]
  },
  {
   "cell_type": "code",
   "execution_count": 44,
   "metadata": {},
   "outputs": [
    {
     "data": {
      "text/plain": [
       "0.0"
      ]
     },
     "execution_count": 44,
     "metadata": {},
     "output_type": "execute_result"
    }
   ],
   "source": [
    "no_12 = p_outlook_overcast_n*p_temp_hot_n*p_humidity_normal_n*p_wind_weak_n*prob_no\n",
    "no_12"
   ]
  },
  {
   "cell_type": "code",
   "execution_count": null,
   "metadata": {},
   "outputs": [],
   "source": [
    "yes"
   ]
  },
  {
   "cell_type": "code",
   "execution_count": null,
   "metadata": {},
   "outputs": [],
   "source": []
  },
  {
   "cell_type": "code",
   "execution_count": 45,
   "metadata": {},
   "outputs": [
    {
     "data": {
      "text/plain": [
       "0.010582010582010581"
      ]
     },
     "execution_count": 45,
     "metadata": {},
     "output_type": "execute_result"
    }
   ],
   "source": [
    "yes_13 = p_outlook_rain_y*p_temp_mild_y*p_humidity_high_y*p_wind_strong_y*prob_yes\n",
    "yes_13"
   ]
  },
  {
   "cell_type": "code",
   "execution_count": 46,
   "metadata": {},
   "outputs": [
    {
     "data": {
      "text/plain": [
       "0.027428571428571438"
      ]
     },
     "execution_count": 46,
     "metadata": {},
     "output_type": "execute_result"
    }
   ],
   "source": [
    "no_13 = p_outlook_rain_n*p_temp_mild_n*p_humidity_high_n*p_wind_strong_n*prob_no\n",
    "no_13"
   ]
  },
  {
   "cell_type": "code",
   "execution_count": null,
   "metadata": {},
   "outputs": [],
   "source": [
    "no"
   ]
  },
  {
   "cell_type": "code",
   "execution_count": 47,
   "metadata": {},
   "outputs": [
    {
     "data": {
      "text/plain": [
       "(0.007054673721340387,\n",
       " 0.0035273368606701934,\n",
       " 0.014109347442680773,\n",
       " 0.021164021164021163,\n",
       " 0.031746031746031744,\n",
       " 0.015873015873015872,\n",
       " 0.021164021164021163,\n",
       " 0.014109347442680773,\n",
       " 0.021164021164021163,\n",
       " 0.042328042328042326,\n",
       " 0.014109347442680773,\n",
       " 0.014109347442680773,\n",
       " 0.028218694885361547,\n",
       " 0.010582010582010581)"
      ]
     },
     "execution_count": 47,
     "metadata": {},
     "output_type": "execute_result"
    }
   ],
   "source": [
    "p = (yes_0,yes_1,yes_2,yes_3,yes_4,yes_5,yes_6,yes_7,yes_8,yes_9,yes_10,yes_11,yes_12,yes_13)\n",
    "p"
   ]
  },
  {
   "cell_type": "code",
   "execution_count": 48,
   "metadata": {},
   "outputs": [
    {
     "data": {
      "text/plain": [
       "(0.02742857142857143,\n",
       " 0.04114285714285714,\n",
       " 0.0,\n",
       " 0.01828571428571429,\n",
       " 0.0022857142857142863,\n",
       " 0.0034285714285714297,\n",
       " 0.0,\n",
       " 0.02742857142857143,\n",
       " 0.003428571428571429,\n",
       " 0.004571428571428573,\n",
       " 0.010285714285714285,\n",
       " 0.0,\n",
       " 0.0,\n",
       " 0.027428571428571438)"
      ]
     },
     "execution_count": 48,
     "metadata": {},
     "output_type": "execute_result"
    }
   ],
   "source": [
    "q = (no_0,no_1,no_2,no_3,no_4,no_5,no_6,no_7,no_8,no_9,no_10,no_11,no_12,no_13)\n",
    "q"
   ]
  },
  {
   "cell_type": "code",
   "execution_count": 51,
   "metadata": {},
   "outputs": [
    {
     "data": {
      "text/html": [
       "<div>\n",
       "<style scoped>\n",
       "    .dataframe tbody tr th:only-of-type {\n",
       "        vertical-align: middle;\n",
       "    }\n",
       "\n",
       "    .dataframe tbody tr th {\n",
       "        vertical-align: top;\n",
       "    }\n",
       "\n",
       "    .dataframe thead th {\n",
       "        text-align: right;\n",
       "    }\n",
       "</style>\n",
       "<table border=\"1\" class=\"dataframe\">\n",
       "  <thead>\n",
       "    <tr style=\"text-align: right;\">\n",
       "      <th></th>\n",
       "      <th>outlook</th>\n",
       "      <th>temp</th>\n",
       "      <th>Humidity</th>\n",
       "      <th>Wind</th>\n",
       "      <th>Plat Tennis</th>\n",
       "      <th>prob of yes</th>\n",
       "      <th>prob of no</th>\n",
       "    </tr>\n",
       "  </thead>\n",
       "  <tbody>\n",
       "    <tr>\n",
       "      <th>0</th>\n",
       "      <td>Sunny</td>\n",
       "      <td>hot</td>\n",
       "      <td>high</td>\n",
       "      <td>weak</td>\n",
       "      <td>no</td>\n",
       "      <td>0.007055</td>\n",
       "      <td>0.027429</td>\n",
       "    </tr>\n",
       "    <tr>\n",
       "      <th>1</th>\n",
       "      <td>Sunny</td>\n",
       "      <td>hot</td>\n",
       "      <td>high</td>\n",
       "      <td>strong</td>\n",
       "      <td>no</td>\n",
       "      <td>0.003527</td>\n",
       "      <td>0.041143</td>\n",
       "    </tr>\n",
       "    <tr>\n",
       "      <th>2</th>\n",
       "      <td>overcast</td>\n",
       "      <td>hot</td>\n",
       "      <td>high</td>\n",
       "      <td>weak</td>\n",
       "      <td>yes</td>\n",
       "      <td>0.014109</td>\n",
       "      <td>0.000000</td>\n",
       "    </tr>\n",
       "    <tr>\n",
       "      <th>3</th>\n",
       "      <td>Rain</td>\n",
       "      <td>mild</td>\n",
       "      <td>high</td>\n",
       "      <td>weak</td>\n",
       "      <td>yes</td>\n",
       "      <td>0.021164</td>\n",
       "      <td>0.018286</td>\n",
       "    </tr>\n",
       "    <tr>\n",
       "      <th>4</th>\n",
       "      <td>Rain</td>\n",
       "      <td>cool</td>\n",
       "      <td>normal</td>\n",
       "      <td>weak</td>\n",
       "      <td>yes</td>\n",
       "      <td>0.031746</td>\n",
       "      <td>0.002286</td>\n",
       "    </tr>\n",
       "    <tr>\n",
       "      <th>5</th>\n",
       "      <td>Rain</td>\n",
       "      <td>cool</td>\n",
       "      <td>normal</td>\n",
       "      <td>strong</td>\n",
       "      <td>no</td>\n",
       "      <td>0.015873</td>\n",
       "      <td>0.003429</td>\n",
       "    </tr>\n",
       "    <tr>\n",
       "      <th>6</th>\n",
       "      <td>overcast</td>\n",
       "      <td>cool</td>\n",
       "      <td>normal</td>\n",
       "      <td>strong</td>\n",
       "      <td>yes</td>\n",
       "      <td>0.021164</td>\n",
       "      <td>0.000000</td>\n",
       "    </tr>\n",
       "    <tr>\n",
       "      <th>7</th>\n",
       "      <td>Sunny</td>\n",
       "      <td>mild</td>\n",
       "      <td>high</td>\n",
       "      <td>weak</td>\n",
       "      <td>no</td>\n",
       "      <td>0.014109</td>\n",
       "      <td>0.027429</td>\n",
       "    </tr>\n",
       "    <tr>\n",
       "      <th>8</th>\n",
       "      <td>Sunny</td>\n",
       "      <td>cool</td>\n",
       "      <td>normal</td>\n",
       "      <td>weak</td>\n",
       "      <td>yes</td>\n",
       "      <td>0.021164</td>\n",
       "      <td>0.003429</td>\n",
       "    </tr>\n",
       "    <tr>\n",
       "      <th>9</th>\n",
       "      <td>Rain</td>\n",
       "      <td>mild</td>\n",
       "      <td>normal</td>\n",
       "      <td>weak</td>\n",
       "      <td>yes</td>\n",
       "      <td>0.042328</td>\n",
       "      <td>0.004571</td>\n",
       "    </tr>\n",
       "    <tr>\n",
       "      <th>10</th>\n",
       "      <td>Sunny</td>\n",
       "      <td>mild</td>\n",
       "      <td>normal</td>\n",
       "      <td>strong</td>\n",
       "      <td>yes</td>\n",
       "      <td>0.014109</td>\n",
       "      <td>0.010286</td>\n",
       "    </tr>\n",
       "    <tr>\n",
       "      <th>11</th>\n",
       "      <td>overcast</td>\n",
       "      <td>mild</td>\n",
       "      <td>high</td>\n",
       "      <td>strong</td>\n",
       "      <td>yes</td>\n",
       "      <td>0.014109</td>\n",
       "      <td>0.000000</td>\n",
       "    </tr>\n",
       "    <tr>\n",
       "      <th>12</th>\n",
       "      <td>overcast</td>\n",
       "      <td>hot</td>\n",
       "      <td>normal</td>\n",
       "      <td>weak</td>\n",
       "      <td>yes</td>\n",
       "      <td>0.028219</td>\n",
       "      <td>0.000000</td>\n",
       "    </tr>\n",
       "    <tr>\n",
       "      <th>13</th>\n",
       "      <td>Rain</td>\n",
       "      <td>mild</td>\n",
       "      <td>high</td>\n",
       "      <td>strong</td>\n",
       "      <td>no</td>\n",
       "      <td>0.010582</td>\n",
       "      <td>0.027429</td>\n",
       "    </tr>\n",
       "  </tbody>\n",
       "</table>\n",
       "</div>"
      ],
      "text/plain": [
       "     outlook  temp Humidity    Wind Plat Tennis  prob of yes  prob of no\n",
       "0      Sunny   hot     high    weak          no     0.007055    0.027429\n",
       "1      Sunny   hot     high  strong          no     0.003527    0.041143\n",
       "2   overcast   hot     high    weak         yes     0.014109    0.000000\n",
       "3       Rain  mild     high    weak         yes     0.021164    0.018286\n",
       "4       Rain  cool   normal    weak         yes     0.031746    0.002286\n",
       "5       Rain  cool   normal  strong          no     0.015873    0.003429\n",
       "6   overcast  cool   normal  strong         yes     0.021164    0.000000\n",
       "7      Sunny  mild     high    weak          no     0.014109    0.027429\n",
       "8      Sunny  cool   normal    weak         yes     0.021164    0.003429\n",
       "9       Rain  mild   normal    weak         yes     0.042328    0.004571\n",
       "10     Sunny  mild   normal  strong         yes     0.014109    0.010286\n",
       "11  overcast  mild     high  strong         yes     0.014109    0.000000\n",
       "12  overcast   hot   normal    weak         yes     0.028219    0.000000\n",
       "13      Rain  mild     high  strong          no     0.010582    0.027429"
      ]
     },
     "execution_count": 51,
     "metadata": {},
     "output_type": "execute_result"
    }
   ],
   "source": [
    "data[\"prob of yes\"] = p\n",
    "data[\"prob of no\"] = q\n",
    "data"
   ]
  },
  {
   "cell_type": "code",
   "execution_count": null,
   "metadata": {},
   "outputs": [],
   "source": []
  },
  {
   "cell_type": "code",
   "execution_count": null,
   "metadata": {},
   "outputs": [],
   "source": []
  },
  {
   "cell_type": "code",
   "execution_count": null,
   "metadata": {},
   "outputs": [],
   "source": []
  }
 ],
 "metadata": {
  "kernelspec": {
   "display_name": "Python 3",
   "language": "python",
   "name": "python3"
  },
  "language_info": {
   "codemirror_mode": {
    "name": "ipython",
    "version": 3
   },
   "file_extension": ".py",
   "mimetype": "text/x-python",
   "name": "python",
   "nbconvert_exporter": "python",
   "pygments_lexer": "ipython3",
   "version": "3.7.3"
  }
 },
 "nbformat": 4,
 "nbformat_minor": 2
}
