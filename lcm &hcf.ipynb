{
 "cells": [
  {
   "cell_type": "code",
   "execution_count": 1,
   "metadata": {},
   "outputs": [
    {
     "name": "stdout",
     "output_type": "stream",
     "text": [
      "lcm is: 12\n"
     ]
    }
   ],
   "source": [
    "x = 4\n",
    "y = 6\n",
    "for i in range(y,x*y+1):\n",
    "    if(i%x == 0 and i%y == 0):\n",
    "        print(\"lcm is:\",i)\n",
    "        break\n",
    "    "
   ]
  },
  {
   "cell_type": "code",
   "execution_count": 2,
   "metadata": {},
   "outputs": [
    {
     "name": "stdout",
     "output_type": "stream",
     "text": [
      "lcm: 120\n"
     ]
    }
   ],
   "source": [
    "x = 10\n",
    "y = 8\n",
    "z= 12\n",
    "for i in range (z,x*y*z+1):\n",
    "    if(i % x ==0) and (i%y ==0)and (i %z == 0):\n",
    "        print(\"lcm:\",i)\n",
    "        break"
   ]
  },
  {
   "cell_type": "code",
   "execution_count": 1,
   "metadata": {},
   "outputs": [
    {
     "name": "stdout",
     "output_type": "stream",
     "text": [
      "lcm is : 600\n"
     ]
    }
   ],
   "source": [
    "x=40\n",
    "y=60\n",
    "z =50\n",
    "k = y\n",
    "while (y<x*y*z+1):\n",
    "    if (k%x==0) and (k%y==0) and (k%z==0):\n",
    "        print (\"lcm is :\",k)\n",
    "        break\n",
    "    k+=1"
   ]
  },
  {
   "cell_type": "code",
   "execution_count": 2,
   "metadata": {},
   "outputs": [
    {
     "name": "stdout",
     "output_type": "stream",
     "text": [
      "lcm using while loop\n",
      "50\n",
      "354637996\n",
      "lcm is : 27300\n"
     ]
    }
   ],
   "source": [
    "print(\"lcm using while loop\")\n",
    "X = [13,14,50,20,10,12,15]\n",
    "a = X[0]\n",
    "for i in  X:\n",
    "    if (i >a):\n",
    "        a=i\n",
    "print (a)\n",
    "k =1\n",
    "for i in  X:\n",
    "    k = k*i\n",
    "    k=k+1\n",
    "print (k)\n",
    "\n",
    "while (a<k+1):\n",
    "    p=0\n",
    "    for i in X:\n",
    "        if (a%i==0):\n",
    "            p+=1\n",
    "    if (p==len(X)):\n",
    "        print (\"lcm is :\",a)\n",
    "        break\n",
    "    a=a+1"
   ]
  },
  {
   "cell_type": "code",
   "execution_count": null,
   "metadata": {},
   "outputs": [],
   "source": []
  },
  {
   "cell_type": "code",
   "execution_count": 3,
   "metadata": {},
   "outputs": [
    {
     "name": "stdout",
     "output_type": "stream",
     "text": [
      "18\n",
      "3459456\n",
      "lcm: 72072\n"
     ]
    }
   ],
   "source": [
    "l = [12,13,14,18,8,11]\n",
    "a = l[0]\n",
    "for i in l :\n",
    "    if (i>a):\n",
    "        a = i\n",
    "k = 1\n",
    "for i in l :\n",
    "    k = k*i\n",
    "print(a)\n",
    "print(k)\n",
    "\n",
    "for i in range(a,k+1):\n",
    "    count = 0\n",
    "    for j in l:\n",
    "        if(i%j ==0):\n",
    "            count +=1\n",
    "    if(count==len(l)):\n",
    "            \n",
    "        print(\"lcm:\",i)\n",
    "        break"
   ]
  },
  {
   "cell_type": "code",
   "execution_count": null,
   "metadata": {},
   "outputs": [],
   "source": [
    "hcf............"
   ]
  },
  {
   "cell_type": "code",
   "execution_count": 3,
   "metadata": {},
   "outputs": [
    {
     "name": "stdout",
     "output_type": "stream",
     "text": [
      "30\n",
      "10 is HCF\n"
     ]
    }
   ],
   "source": [
    "x=30\n",
    "y=40\n",
    "if (x<y):\n",
    "    k =x\n",
    "else:\n",
    "    k=y\n",
    "print(k)\n",
    "while (k>0):\n",
    "    if (x%k==0) and (y%k==0):\n",
    "        print (k,\"is HCF\")\n",
    "        break\n",
    "    k=k-1\n",
    "    "
   ]
  },
  {
   "cell_type": "code",
   "execution_count": 4,
   "metadata": {},
   "outputs": [
    {
     "name": "stdout",
     "output_type": "stream",
     "text": [
      "10\n",
      "hcf is : 5\n"
     ]
    }
   ],
   "source": [
    "a = [10,20,15,25,35,40,45] \n",
    "k = a[0]\n",
    "for i in a:\n",
    "    if (i <k):\n",
    "        k = i\n",
    "print (k)\n",
    "while (k>0):\n",
    "    p=0\n",
    "    for i in a:\n",
    "        if(i%k==0):\n",
    "            p=p+1\n",
    "    if (p==len(a)):\n",
    "        print (\"hcf is :\",k)\n",
    "        break\n",
    "    k=k-1"
   ]
  },
  {
   "cell_type": "code",
   "execution_count": null,
   "metadata": {},
   "outputs": [],
   "source": []
  }
 ],
 "metadata": {
  "kernelspec": {
   "display_name": "Python 3",
   "language": "python",
   "name": "python3"
  },
  "language_info": {
   "codemirror_mode": {
    "name": "ipython",
    "version": 3
   },
   "file_extension": ".py",
   "mimetype": "text/x-python",
   "name": "python",
   "nbconvert_exporter": "python",
   "pygments_lexer": "ipython3",
   "version": "3.7.3"
  }
 },
 "nbformat": 4,
 "nbformat_minor": 2
}
