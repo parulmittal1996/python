{
 "cells": [
  {
   "cell_type": "code",
   "execution_count": 1,
   "metadata": {},
   "outputs": [
    {
     "name": "stdout",
     "output_type": "stream",
     "text": [
      "number is palindrome\n"
     ]
    }
   ],
   "source": [
    "a = 32723\n",
    "rev = 0\n",
    "b = a\n",
    "while(b>0):\n",
    "    rev = rev*10 + b%10\n",
    "    b=b//10\n",
    "if(rev == a):\n",
    "    print(\"number is palindrome\")\n",
    "else:\n",
    "    print(\"number is not palindrome\")"
   ]
  },
  {
   "cell_type": "code",
   "execution_count": 2,
   "metadata": {},
   "outputs": [
    {
     "name": "stdout",
     "output_type": "stream",
     "text": [
      "it is not palindrome\n",
      "it is palindrome\n",
      "it is palindrome\n",
      "it is not palindrome\n",
      "it is palindrome\n"
     ]
    }
   ],
   "source": [
    "c =[25,121,393,624,12321]\n",
    "for i in c:\n",
    "    a = i\n",
    "    rev = 0\n",
    "    b = a\n",
    "    while(b>0):\n",
    "        rev = rev*10 + b%10\n",
    "        b=b//10\n",
    "    if(rev == a): \n",
    "        print(\"it is palindrome\")\n",
    "    else:\n",
    "        print (\"it is not palindrome\")\n",
    "         "
   ]
  },
  {
   "cell_type": "code",
   "execution_count": 4,
   "metadata": {},
   "outputs": [
    {
     "name": "stdout",
     "output_type": "stream",
     "text": [
      "sum of plaindrome values\n",
      "12835\n"
     ]
    }
   ],
   "source": [
    "print(\"sum of plaindrome values\")\n",
    "c =[25,121,393,624,12321]\n",
    "k=0\n",
    "for i in c:\n",
    "    a = i\n",
    "    rev = 0\n",
    "    b = a\n",
    "    while(b>0):\n",
    "        rev = rev*10 + b%10\n",
    "        b=b//10\n",
    "    if(rev == a): \n",
    "        k = k +i\n",
    "print (k)"
   ]
  },
  {
   "cell_type": "code",
   "execution_count": 5,
   "metadata": {},
   "outputs": [
    {
     "name": "stdout",
     "output_type": "stream",
     "text": [
      "sum of values of non palindrome\n",
      "649\n"
     ]
    }
   ],
   "source": [
    "print (\"sum of values of non palindrome\")\n",
    "c =[25,121,393,624,12321]\n",
    "k=0\n",
    "for i in c:\n",
    "    a = i\n",
    "    rev = 0\n",
    "    b = a\n",
    "    while(b>0):\n",
    "        rev = rev*10 + b%10\n",
    "        b=b//10\n",
    "    if(rev == a): \n",
    "        pass\n",
    "    else:\n",
    "        k = k +i\n",
    "print (k)"
   ]
  },
  {
   "cell_type": "code",
   "execution_count": null,
   "metadata": {},
   "outputs": [],
   "source": []
  },
  {
   "cell_type": "code",
   "execution_count": null,
   "metadata": {},
   "outputs": [],
   "source": []
  },
  {
   "cell_type": "code",
   "execution_count": null,
   "metadata": {},
   "outputs": [],
   "source": []
  }
 ],
 "metadata": {
  "kernelspec": {
   "display_name": "Python 3",
   "language": "python",
   "name": "python3"
  },
  "language_info": {
   "codemirror_mode": {
    "name": "ipython",
    "version": 3
   },
   "file_extension": ".py",
   "mimetype": "text/x-python",
   "name": "python",
   "nbconvert_exporter": "python",
   "pygments_lexer": "ipython3",
   "version": "3.7.3"
  }
 },
 "nbformat": 4,
 "nbformat_minor": 2
}
