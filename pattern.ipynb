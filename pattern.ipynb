{
 "cells": [
  {
   "cell_type": "code",
   "execution_count": 1,
   "metadata": {},
   "outputs": [
    {
     "name": "stdout",
     "output_type": "stream",
     "text": [
      "#\n"
     ]
    }
   ],
   "source": [
    "print(\"#\")"
   ]
  },
  {
   "cell_type": "code",
   "execution_count": 2,
   "metadata": {},
   "outputs": [
    {
     "name": "stdout",
     "output_type": "stream",
     "text": [
      "#\n",
      "#\n",
      "#\n",
      "#\n"
     ]
    }
   ],
   "source": [
    "for i in range (0,4):\n",
    "    print(\"#\")"
   ]
  },
  {
   "cell_type": "code",
   "execution_count": 3,
   "metadata": {},
   "outputs": [
    {
     "name": "stdout",
     "output_type": "stream",
     "text": [
      "####\n",
      "####\n",
      "####\n",
      "####\n"
     ]
    }
   ],
   "source": [
    "for i in range (0,4):\n",
    "        for j in range(0,4):\n",
    "            print (\"#\", end = \"\")\n",
    "        print()"
   ]
  },
  {
   "cell_type": "code",
   "execution_count": 4,
   "metadata": {},
   "outputs": [
    {
     "name": "stdout",
     "output_type": "stream",
     "text": [
      "#\n",
      "##\n",
      "###\n",
      "####\n"
     ]
    }
   ],
   "source": [
    "for j in range(0,4):\n",
    "    for i in range(0,j+1):\n",
    "        print(\"#\", end = \"\")\n",
    "    print()"
   ]
  },
  {
   "cell_type": "code",
   "execution_count": 5,
   "metadata": {},
   "outputs": [
    {
     "name": "stdout",
     "output_type": "stream",
     "text": [
      "   #\n",
      "  ###\n",
      " #####\n",
      "#######\n"
     ]
    }
   ],
   "source": [
    "for i in range(0,4):\n",
    "    for j in range(0,3-i):\n",
    "        print(\" \", end =\"\")\n",
    "    for j in range(0,i*2+ 1):\n",
    "        print(\"#\", end = \"\")\n",
    "   \n",
    "    print()"
   ]
  },
  {
   "cell_type": "code",
   "execution_count": 6,
   "metadata": {},
   "outputs": [
    {
     "name": "stdout",
     "output_type": "stream",
     "text": [
      "#######\n",
      " #####\n",
      "  ###\n",
      "   #\n"
     ]
    }
   ],
   "source": [
    "for i in range(0,4):\n",
    "    for j in range(i):\n",
    "        print(\" \", end = \"\")\n",
    "    for j in range(7-2*i):\n",
    "        print(\"#\", end = \"\")\n",
    "    print()"
   ]
  },
  {
   "cell_type": "code",
   "execution_count": 7,
   "metadata": {},
   "outputs": [
    {
     "name": "stdout",
     "output_type": "stream",
     "text": [
      "   #\n",
      "  ###\n",
      " #####\n",
      "#######\n",
      "#######\n",
      " #####\n",
      "  ###\n",
      "   #\n"
     ]
    }
   ],
   "source": [
    "for i in range(0,4):\n",
    "    for j in range(0,3-i):\n",
    "        print(\" \", end =\"\")\n",
    "    for j in range(0,i*2+ 1):\n",
    "        print(\"#\", end = \"\")\n",
    "    print()\n",
    "for i in range(0,4):\n",
    "    for j in range(i):\n",
    "        print(\" \", end = \"\")\n",
    "    for j in range(7-2*i):\n",
    "        print(\"#\", end = \"\")\n",
    "    print()"
   ]
  },
  {
   "cell_type": "code",
   "execution_count": 8,
   "metadata": {},
   "outputs": [
    {
     "name": "stdout",
     "output_type": "stream",
     "text": [
      "   #\n",
      "  ###\n",
      " #####\n",
      "#######\n",
      " #####\n",
      "  ###\n",
      "   #\n"
     ]
    }
   ],
   "source": [
    "for i in range(0,7):\n",
    "    if (i<4):\n",
    "        for j in range (0,3-i):\n",
    "            print (\" \", end = \"\")\n",
    "        for j in range(0,2*i+1):\n",
    "            print (\"#\", end = \"\")\n",
    "    else:\n",
    "        for j in range(0,i-3):\n",
    "            print (\" \", end = \"\")\n",
    "        for j in range (13-2*i):\n",
    "            print(\"#\", end = \"\")\n",
    "    print()"
   ]
  },
  {
   "cell_type": "code",
   "execution_count": 9,
   "metadata": {},
   "outputs": [
    {
     "name": "stdout",
     "output_type": "stream",
     "text": [
      "   #\n",
      "  ##\n",
      " ###\n",
      "####\n",
      " ###\n",
      "  ##\n",
      "   #\n"
     ]
    }
   ],
   "source": [
    "for i in range (0,7):\n",
    "    if (i<4):\n",
    "        for j in range (3-i):\n",
    "            print (\" \", end = \"\")\n",
    "        for j in range (i +1):\n",
    "            print (\"#\", end = \"\")\n",
    "    else:\n",
    "        for j in range (i-3):\n",
    "            print(\" \",end = \"\")\n",
    "        for j in range (7-i):\n",
    "            print (\"#\", end = \"\")\n",
    "    print ()\n",
    "        "
   ]
  },
  {
   "cell_type": "code",
   "execution_count": 10,
   "metadata": {},
   "outputs": [
    {
     "name": "stdout",
     "output_type": "stream",
     "text": [
      "   # \n",
      "  # # \n",
      " # # # \n",
      "# # # # \n"
     ]
    }
   ],
   "source": [
    "for i in range(0,4):\n",
    "    for j in range(0,4-i-1):\n",
    "        print(\" \",end=\"\")\n",
    "    for j in range (0,i+1):\n",
    "        print(\"#\", end = \" \")\n",
    "    print()"
   ]
  },
  {
   "cell_type": "code",
   "execution_count": 11,
   "metadata": {},
   "outputs": [
    {
     "name": "stdout",
     "output_type": "stream",
     "text": [
      "# # # # \n",
      "# # # \n",
      "# # \n",
      "# \n"
     ]
    }
   ],
   "source": [
    "for i in range(4,0,-1):\n",
    "    for j in range(0,i):\n",
    "        print(\"#\", end = \" \")\n",
    "    print() "
   ]
  },
  {
   "cell_type": "code",
   "execution_count": 12,
   "metadata": {},
   "outputs": [
    {
     "name": "stdout",
     "output_type": "stream",
     "text": [
      "#\n",
      "##\n",
      "###\n",
      "####\n",
      "###\n",
      "##\n",
      "#\n"
     ]
    }
   ],
   "source": [
    "for i in range (0,7):\n",
    "    if (i<4):\n",
    "        for j in range(i +1):\n",
    "            print(\"#\",end = \"\")\n",
    "        print()\n",
    "    else:\n",
    "        for j in range(7-i):\n",
    "            print(\"#\", end = \"\")\n",
    "        print()"
   ]
  },
  {
   "cell_type": "code",
   "execution_count": 13,
   "metadata": {},
   "outputs": [
    {
     "name": "stdout",
     "output_type": "stream",
     "text": [
      "   # \n",
      "  # # \n",
      " # # # \n",
      "# # # # \n"
     ]
    }
   ],
   "source": [
    "for i in range (0,4):\n",
    "    for j in range (3-i):\n",
    "        print(\" \", end = \"\")\n",
    "    for j in range(i+1):\n",
    "        print(\"#\", end = \" \")\n",
    "    print()"
   ]
  },
  {
   "cell_type": "code",
   "execution_count": 14,
   "metadata": {},
   "outputs": [
    {
     "name": "stdout",
     "output_type": "stream",
     "text": [
      "    # \n",
      "   # # \n",
      "  # # # \n",
      " # # # # \n"
     ]
    }
   ],
   "source": [
    "for i in range(4,0,-1):\n",
    "    for j in range(0,i):\n",
    "        print(\" \", end = \"\")\n",
    "    for j in range(4-i+1):\n",
    "        print(\"#\", end = \" \")\n",
    "    print()"
   ]
  },
  {
   "cell_type": "code",
   "execution_count": 15,
   "metadata": {},
   "outputs": [
    {
     "name": "stdout",
     "output_type": "stream",
     "text": [
      "# # # # \n",
      " # # # \n",
      "  # # \n",
      "   # \n"
     ]
    }
   ],
   "source": [
    "for i in range(0,4):\n",
    "    for j in range(i):\n",
    "        print(\" \", end = \"\")\n",
    "    for j in range(4-i):\n",
    "        print(\"#\", end = \" \")\n",
    "    print()"
   ]
  },
  {
   "cell_type": "code",
   "execution_count": 16,
   "metadata": {},
   "outputs": [
    {
     "name": "stdout",
     "output_type": "stream",
     "text": [
      "# \n",
      "# # \n",
      "# # # \n",
      "# # # # \n"
     ]
    }
   ],
   "source": [
    "for i in range(0,4):\n",
    "    for j in range (i +1):\n",
    "        print (\"#\", end = \" \")\n",
    "    print()"
   ]
  },
  {
   "cell_type": "code",
   "execution_count": 17,
   "metadata": {},
   "outputs": [
    {
     "name": "stdout",
     "output_type": "stream",
     "text": [
      "# # # # \n",
      " # # # \n",
      "  # # \n",
      "   # \n"
     ]
    }
   ],
   "source": [
    "for i in range(4,0,-1):\n",
    "    for j in range(0, 4-i):\n",
    "        print(\" \", end = \"\")\n",
    "    for j in range(i):\n",
    "        print(\"#\", end = \" \")\n",
    "    \n",
    "    print()"
   ]
  },
  {
   "cell_type": "code",
   "execution_count": 18,
   "metadata": {},
   "outputs": [
    {
     "name": "stdout",
     "output_type": "stream",
     "text": [
      "      # \n",
      "    # # # \n",
      "  # # # # # \n",
      "# # # # # # # \n"
     ]
    }
   ],
   "source": [
    "for i in range(0,4):\n",
    "    for j in range(0,6-2*i):\n",
    "        print(\" \", end =\"\")\n",
    "    for j in range(0,i*2+ 1):\n",
    "        print(\"#\", end = \" \")\n",
    "   \n",
    "    print()"
   ]
  },
  {
   "cell_type": "code",
   "execution_count": 19,
   "metadata": {},
   "outputs": [
    {
     "name": "stdout",
     "output_type": "stream",
     "text": [
      "#     #\n",
      "##   ##\n",
      "### ###\n",
      "#######\n",
      "### ###\n",
      "##   ##\n",
      "#     #\n"
     ]
    }
   ],
   "source": [
    "for i in range(0,7):\n",
    "    if (i<4):\n",
    "        for j in range(i+1):\n",
    "            print(\"#\", end = \"\")\n",
    "        for j in range(5-2* i):\n",
    "            print(\" \", end = \"\")\n",
    "        if(i<3):\n",
    "            for j in range (i +1):\n",
    "                print (\"#\", end = \"\")\n",
    "        else:\n",
    "            print (\"###\", end = \"\")\n",
    "        print()\n",
    "    else :\n",
    "        for j in range (7-i):\n",
    "            print(\"#\", end = \"\")\n",
    "        for j in range (2*i-7):\n",
    "            print (\" \", end = \"\")\n",
    "        for j in range (7-i):\n",
    "            print(\"#\", end = \"\")\n",
    "        print ()"
   ]
  },
  {
   "cell_type": "code",
   "execution_count": 20,
   "metadata": {},
   "outputs": [
    {
     "name": "stdout",
     "output_type": "stream",
     "text": [
      "enter the number:5\n",
      "1\n",
      "12\n",
      "123\n",
      "1234\n",
      "12345\n"
     ]
    }
   ],
   "source": [
    "n = int (input(\"enter the number:\"))\n",
    "for i in range (1,n+1):\n",
    "    for j in range (1,i+1):\n",
    "        print(j,end = \"\")\n",
    "    print()"
   ]
  },
  {
   "cell_type": "code",
   "execution_count": 21,
   "metadata": {},
   "outputs": [
    {
     "name": "stdout",
     "output_type": "stream",
     "text": [
      "1\n",
      "12\n",
      "123\n",
      "1234\n",
      "12345\n"
     ]
    }
   ],
   "source": [
    "n = 5\n",
    "for i in range (1,n+1):\n",
    "    for j in range (1,i+1):\n",
    "        print (j, end = \"\")\n",
    "    print ()"
   ]
  },
  {
   "cell_type": "code",
   "execution_count": 1,
   "metadata": {},
   "outputs": [
    {
     "name": "stdout",
     "output_type": "stream",
     "text": [
      "1\n",
      "12\n",
      "123\n",
      "1234\n",
      "12345\n"
     ]
    }
   ],
   "source": [
    "for i in range(1,6):\n",
    "    for j in range (1,i+1):\n",
    "        print (j, end = \"\")\n",
    "    print ()"
   ]
  },
  {
   "cell_type": "code",
   "execution_count": 2,
   "metadata": {},
   "outputs": [
    {
     "name": "stdout",
     "output_type": "stream",
     "text": [
      "1\n",
      "22\n",
      "333\n",
      "4444\n",
      "55555\n"
     ]
    }
   ],
   "source": [
    "for i in range(0,5):\n",
    "    for j in range (0,i+1):\n",
    "        print (i+1, end = \"\")\n",
    "    print ()"
   ]
  },
  {
   "cell_type": "code",
   "execution_count": null,
   "metadata": {},
   "outputs": [],
   "source": []
  },
  {
   "cell_type": "code",
   "execution_count": 22,
   "metadata": {},
   "outputs": [
    {
     "name": "stdout",
     "output_type": "stream",
     "text": [
      "1\n",
      "22\n",
      "333\n",
      "4444\n",
      "55555\n"
     ]
    }
   ],
   "source": [
    "n = 5\n",
    "for i in range (1,n+1):\n",
    "    for j in range (1,i+1):\n",
    "        print (i, end = \"\")\n",
    "    print ()"
   ]
  },
  {
   "cell_type": "code",
   "execution_count": 24,
   "metadata": {},
   "outputs": [
    {
     "name": "stdout",
     "output_type": "stream",
     "text": [
      "1 \n",
      "2 3 \n",
      "4 5 6 \n",
      "7 8 9 10 \n",
      "11 12 13 14 15 \n"
     ]
    }
   ],
   "source": [
    "k = 1\n",
    "for i in range (0,5):\n",
    "    for j in range (0, i +1):\n",
    "        print (k , end = \" \")\n",
    "        k = k+1\n",
    "    print ()"
   ]
  },
  {
   "cell_type": "code",
   "execution_count": 25,
   "metadata": {},
   "outputs": [
    {
     "name": "stdout",
     "output_type": "stream",
     "text": [
      "   #        #        #\n",
      "  ###      ###      ###\n",
      " #####    #####    #####\n",
      "#######  #######  #######\n"
     ]
    }
   ],
   "source": [
    "for i in range (0,4):\n",
    "    for j in range (3-i):\n",
    "        print (\" \", end = \"\")\n",
    "    for j in range (2*i+1):\n",
    "        print (\"#\", end=\"\")\n",
    "    for j in range (4-i):\n",
    "        print (\" \", end = \" \")\n",
    "    for j in range (2*i+1):\n",
    "        print (\"#\", end=\"\")\n",
    "    for j in range (4-i):\n",
    "        print (\" \", end = \" \")\n",
    "    for j in range (2*i+1):\n",
    "        print (\"#\", end=\"\")\n",
    "    print ()"
   ]
  },
  {
   "cell_type": "code",
   "execution_count": null,
   "metadata": {},
   "outputs": [],
   "source": []
  },
  {
   "cell_type": "code",
   "execution_count": null,
   "metadata": {},
   "outputs": [],
   "source": []
  },
  {
   "cell_type": "code",
   "execution_count": null,
   "metadata": {},
   "outputs": [],
   "source": []
  },
  {
   "cell_type": "code",
   "execution_count": null,
   "metadata": {},
   "outputs": [],
   "source": []
  }
 ],
 "metadata": {
  "kernelspec": {
   "display_name": "Python 3",
   "language": "python",
   "name": "python3"
  },
  "language_info": {
   "codemirror_mode": {
    "name": "ipython",
    "version": 3
   },
   "file_extension": ".py",
   "mimetype": "text/x-python",
   "name": "python",
   "nbconvert_exporter": "python",
   "pygments_lexer": "ipython3",
   "version": "3.7.3"
  }
 },
 "nbformat": 4,
 "nbformat_minor": 2
}
