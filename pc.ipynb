{
 "cells": [
  {
   "cell_type": "code",
   "execution_count": 1,
   "metadata": {},
   "outputs": [
    {
     "name": "stdout",
     "output_type": "stream",
     "text": [
      "permutation\n",
      "5040\n"
     ]
    }
   ],
   "source": [
    "print (\"permutation\")\n",
    "n =10\n",
    "r = 4\n",
    "p=n-r\n",
    "a = 1\n",
    "b=1\n",
    "while (n>0):\n",
    "    a = a*n\n",
    "    n= n-1\n",
    "    while (p>0):\n",
    "        b = b*p\n",
    "        p = p-1\n",
    "\n",
    "\n",
    "per = a//b\n",
    "print (per)\n",
    "\n",
    "    \n",
    "\n",
    "\n",
    "\n"
   ]
  },
  {
   "cell_type": "code",
   "execution_count": 2,
   "metadata": {},
   "outputs": [
    {
     "name": "stdout",
     "output_type": "stream",
     "text": [
      "combination\n",
      "3628800\n",
      "24\n",
      "720\n",
      "210.0\n"
     ]
    }
   ],
   "source": [
    "print (\"combination\")\n",
    "n=10\n",
    "r=4\n",
    "p=n-r\n",
    "a=1\n",
    "b=1\n",
    "c=1\n",
    "for i in range (1,n+1):\n",
    "    a =a *i\n",
    "for i in range (1,r+1):\n",
    "    b=b*i\n",
    "for i in range (1,p+1):\n",
    "    c=c*i\n",
    "print (a)\n",
    "print (b)\n",
    "print (c)\n",
    "\n",
    "ncr = a/(b*c)\n",
    "print (ncr)"
   ]
  },
  {
   "cell_type": "code",
   "execution_count": null,
   "metadata": {},
   "outputs": [],
   "source": []
  }
 ],
 "metadata": {
  "kernelspec": {
   "display_name": "Python 3",
   "language": "python",
   "name": "python3"
  },
  "language_info": {
   "codemirror_mode": {
    "name": "ipython",
    "version": 3
   },
   "file_extension": ".py",
   "mimetype": "text/x-python",
   "name": "python",
   "nbconvert_exporter": "python",
   "pygments_lexer": "ipython3",
   "version": "3.7.3"
  }
 },
 "nbformat": 4,
 "nbformat_minor": 2
}
