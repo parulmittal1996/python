{
 "cells": [
  {
   "cell_type": "code",
   "execution_count": 2,
   "metadata": {},
   "outputs": [
    {
     "name": "stdout",
     "output_type": "stream",
     "text": [
      "22 not\n"
     ]
    }
   ],
   "source": [
    "x =22\n",
    "if (x>=1):\n",
    "    for i in range(2,x):\n",
    "        if (x%i==0):\n",
    "            print(x,\"not\")\n",
    "            break\n",
    "    else:\n",
    "        print(x,\"prime\")\n"
   ]
  },
  {
   "cell_type": "code",
   "execution_count": null,
   "metadata": {},
   "outputs": [],
   "source": []
  },
  {
   "cell_type": "code",
   "execution_count": null,
   "metadata": {},
   "outputs": [],
   "source": []
  },
  {
   "cell_type": "code",
   "execution_count": 11,
   "metadata": {},
   "outputs": [
    {
     "name": "stdout",
     "output_type": "stream",
     "text": [
      "prime\n"
     ]
    }
   ],
   "source": [
    "x=5\n",
    "k = 0\n",
    "i=1\n",
    "while (i<x+1):\n",
    "    if (x%i==0):\n",
    "        k=k+1\n",
    "    i=i+1\n",
    "if (k==2):\n",
    "    print (\"prime\")\n",
    "else:\n",
    "    print (\"not\")\n",
    "    "
   ]
  },
  {
   "cell_type": "code",
   "execution_count": null,
   "metadata": {},
   "outputs": [],
   "source": []
  },
  {
   "cell_type": "code",
   "execution_count": 2,
   "metadata": {},
   "outputs": [
    {
     "name": "stdout",
     "output_type": "stream",
     "text": [
      "not\n",
      "prime\n",
      "prime\n",
      "not\n",
      "prime\n",
      "not\n",
      "not\n",
      "prime\n",
      "prime\n"
     ]
    }
   ],
   "source": [
    "X = [12,13,7,24,29,39,6,89,79]\n",
    "for a in X:\n",
    "    x = a\n",
    "    k = 0\n",
    "    i =1\n",
    "    while (i < x+1):\n",
    "        if (x%i ==0):\n",
    "            k = k+1\n",
    "        i = i +1\n",
    "    if (k ==2):\n",
    "        print (\"prime\")\n",
    "    else :\n",
    "        print (\"not\")\n",
    "        "
   ]
  },
  {
   "cell_type": "code",
   "execution_count": 3,
   "metadata": {},
   "outputs": [
    {
     "name": "stdout",
     "output_type": "stream",
     "text": [
      "not\n",
      "prime\n",
      "prime\n",
      "not\n",
      "prime\n",
      "not\n",
      "not\n",
      "prime\n",
      "prime\n"
     ]
    }
   ],
   "source": [
    "X = [12,13,7,24,29,39,6,89,79]\n",
    "p=0\n",
    "q = len(X)\n",
    "while (p<q):\n",
    "    x = X[p]\n",
    "    k = 0\n",
    "    i =1\n",
    "    while (i < x+1):\n",
    "        if (x%i ==0):\n",
    "            k = k+1\n",
    "        i = i +1\n",
    "    p =p+1\n",
    "    if (k ==2):\n",
    "        print (\"prime\")\n",
    "    else :\n",
    "        print (\"not\")\n",
    "    "
   ]
  },
  {
   "cell_type": "code",
   "execution_count": 4,
   "metadata": {},
   "outputs": [
    {
     "name": "stdout",
     "output_type": "stream",
     "text": [
      "12 not\n"
     ]
    }
   ],
   "source": [
    "a = [12,13,7,24,29,39,6,89,79]\n",
    "k =0\n",
    "i = 0\n",
    "b =1\n",
    "while (b < a[i]+1):\n",
    "    if (a[i]%b==0):\n",
    "        k = k+1\n",
    "    b=b+1\n",
    "if (k == 2):\n",
    "    print (a[i],\"prime\")\n",
    "else:\n",
    "    print (a[i],\"not\")\n",
    "    "
   ]
  },
  {
   "cell_type": "code",
   "execution_count": 9,
   "metadata": {},
   "outputs": [
    {
     "name": "stdout",
     "output_type": "stream",
     "text": [
      "enter the lower interval:45\n",
      "enter the upper interval:98\n",
      "47 prime\n",
      "53 prime\n",
      "59 prime\n",
      "61 prime\n",
      "67 prime\n",
      "71 prime\n",
      "73 prime\n",
      "79 prime\n",
      "83 prime\n",
      "89 prime\n",
      "97 prime\n"
     ]
    }
   ],
   "source": [
    "lower = int (input(\"enter the lower interval:\"))\n",
    "upper = int(input(\"enter the upper interval:\"))\n",
    "for i in range(lower, upper+1):\n",
    "    x = i\n",
    "    k =0\n",
    "    b =1\n",
    "    while(b<x+1):\n",
    "        if (x%b == 0):\n",
    "            k=k+1\n",
    "        b=b+1\n",
    "    if (k ==2):\n",
    "        print (i,\"prime\")\n",
    "    \n",
    "i = i +1"
   ]
  },
  {
   "cell_type": "code",
   "execution_count": null,
   "metadata": {},
   "outputs": [],
   "source": []
  },
  {
   "cell_type": "code",
   "execution_count": null,
   "metadata": {},
   "outputs": [],
   "source": [
    "finding prime factors.........\n"
   ]
  },
  {
   "cell_type": "code",
   "execution_count": 7,
   "metadata": {},
   "outputs": [
    {
     "name": "stdout",
     "output_type": "stream",
     "text": [
      "Prime numbers are: 3 , 13\n",
      "[3, 13]\n"
     ]
    }
   ],
   "source": [
    "x =351\n",
    "c=[]\n",
    "\n",
    "for i in range (1,x+1):\n",
    "    if (x%i ==0):\n",
    "        k =0\n",
    "        b = 1\n",
    "        while (b<i+1):\n",
    "            if (i%b==0):\n",
    "                k=k+1\n",
    "            b=b+1\n",
    "        if(k==2):\n",
    "            c.append(i)\n",
    "print(\"Prime numbers are:\",c[0],\",\",c[1])\n",
    "print(c)\n",
    "        "
   ]
  },
  {
   "cell_type": "code",
   "execution_count": 8,
   "metadata": {},
   "outputs": [
    {
     "name": "stdout",
     "output_type": "stream",
     "text": [
      "3 is a prime number\n",
      "13 is a prime number\n"
     ]
    }
   ],
   "source": [
    "x = 351\n",
    "a=1\n",
    "while (a<x+1):\n",
    "    if(x%a==0):\n",
    "        \n",
    "        \n",
    "        k = 0\n",
    "        i = 1\n",
    "        while (i<a+1):\n",
    "            if (a%i==0):\n",
    "                k+=1\n",
    "            i+=1\n",
    "        if(k==2):\n",
    "            \n",
    "            print (a,\"is a prime number\")\n",
    "    a=a+1"
   ]
  },
  {
   "cell_type": "code",
   "execution_count": null,
   "metadata": {},
   "outputs": [],
   "source": []
  },
  {
   "cell_type": "code",
   "execution_count": null,
   "metadata": {},
   "outputs": [],
   "source": []
  }
 ],
 "metadata": {
  "kernelspec": {
   "display_name": "Python 3",
   "language": "python",
   "name": "python3"
  },
  "language_info": {
   "codemirror_mode": {
    "name": "ipython",
    "version": 3
   },
   "file_extension": ".py",
   "mimetype": "text/x-python",
   "name": "python",
   "nbconvert_exporter": "python",
   "pygments_lexer": "ipython3",
   "version": "3.7.3"
  }
 },
 "nbformat": 4,
 "nbformat_minor": 2
}
