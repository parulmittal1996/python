{
 "cells": [
  {
   "cell_type": "code",
   "execution_count": 5,
   "metadata": {},
   "outputs": [
    {
     "data": {
      "text/html": [
       "<div>\n",
       "<style scoped>\n",
       "    .dataframe tbody tr th:only-of-type {\n",
       "        vertical-align: middle;\n",
       "    }\n",
       "\n",
       "    .dataframe tbody tr th {\n",
       "        vertical-align: top;\n",
       "    }\n",
       "\n",
       "    .dataframe thead th {\n",
       "        text-align: right;\n",
       "    }\n",
       "</style>\n",
       "<table border=\"1\" class=\"dataframe\">\n",
       "  <thead>\n",
       "    <tr style=\"text-align: right;\">\n",
       "      <th></th>\n",
       "      <th>outlook</th>\n",
       "      <th>temp</th>\n",
       "      <th>Humidity</th>\n",
       "      <th>Wind</th>\n",
       "      <th>Plat Tennis</th>\n",
       "    </tr>\n",
       "  </thead>\n",
       "  <tbody>\n",
       "    <tr>\n",
       "      <th>0</th>\n",
       "      <td>Sunny</td>\n",
       "      <td>hot</td>\n",
       "      <td>high</td>\n",
       "      <td>weak</td>\n",
       "      <td>no</td>\n",
       "    </tr>\n",
       "    <tr>\n",
       "      <th>1</th>\n",
       "      <td>Sunny</td>\n",
       "      <td>hot</td>\n",
       "      <td>high</td>\n",
       "      <td>strong</td>\n",
       "      <td>no</td>\n",
       "    </tr>\n",
       "    <tr>\n",
       "      <th>2</th>\n",
       "      <td>overcast</td>\n",
       "      <td>hot</td>\n",
       "      <td>high</td>\n",
       "      <td>weak</td>\n",
       "      <td>yes</td>\n",
       "    </tr>\n",
       "    <tr>\n",
       "      <th>3</th>\n",
       "      <td>Rain</td>\n",
       "      <td>mild</td>\n",
       "      <td>high</td>\n",
       "      <td>weak</td>\n",
       "      <td>yes</td>\n",
       "    </tr>\n",
       "    <tr>\n",
       "      <th>4</th>\n",
       "      <td>Rain</td>\n",
       "      <td>cool</td>\n",
       "      <td>normal</td>\n",
       "      <td>weak</td>\n",
       "      <td>yes</td>\n",
       "    </tr>\n",
       "    <tr>\n",
       "      <th>5</th>\n",
       "      <td>Rain</td>\n",
       "      <td>cool</td>\n",
       "      <td>normal</td>\n",
       "      <td>strong</td>\n",
       "      <td>no</td>\n",
       "    </tr>\n",
       "    <tr>\n",
       "      <th>6</th>\n",
       "      <td>overcast</td>\n",
       "      <td>cool</td>\n",
       "      <td>normal</td>\n",
       "      <td>strong</td>\n",
       "      <td>yes</td>\n",
       "    </tr>\n",
       "    <tr>\n",
       "      <th>7</th>\n",
       "      <td>Sunny</td>\n",
       "      <td>mild</td>\n",
       "      <td>high</td>\n",
       "      <td>weak</td>\n",
       "      <td>no</td>\n",
       "    </tr>\n",
       "    <tr>\n",
       "      <th>8</th>\n",
       "      <td>Sunny</td>\n",
       "      <td>cool</td>\n",
       "      <td>normal</td>\n",
       "      <td>weak</td>\n",
       "      <td>yes</td>\n",
       "    </tr>\n",
       "    <tr>\n",
       "      <th>9</th>\n",
       "      <td>Rain</td>\n",
       "      <td>mild</td>\n",
       "      <td>normal</td>\n",
       "      <td>weak</td>\n",
       "      <td>yes</td>\n",
       "    </tr>\n",
       "    <tr>\n",
       "      <th>10</th>\n",
       "      <td>Sunny</td>\n",
       "      <td>mild</td>\n",
       "      <td>normal</td>\n",
       "      <td>strong</td>\n",
       "      <td>yes</td>\n",
       "    </tr>\n",
       "    <tr>\n",
       "      <th>11</th>\n",
       "      <td>overcast</td>\n",
       "      <td>mild</td>\n",
       "      <td>high</td>\n",
       "      <td>strong</td>\n",
       "      <td>yes</td>\n",
       "    </tr>\n",
       "    <tr>\n",
       "      <th>12</th>\n",
       "      <td>overcast</td>\n",
       "      <td>hot</td>\n",
       "      <td>normal</td>\n",
       "      <td>weak</td>\n",
       "      <td>yes</td>\n",
       "    </tr>\n",
       "    <tr>\n",
       "      <th>13</th>\n",
       "      <td>Rain</td>\n",
       "      <td>mild</td>\n",
       "      <td>high</td>\n",
       "      <td>strong</td>\n",
       "      <td>no</td>\n",
       "    </tr>\n",
       "  </tbody>\n",
       "</table>\n",
       "</div>"
      ],
      "text/plain": [
       "     outlook  temp Humidity    Wind Plat Tennis\n",
       "0      Sunny   hot     high    weak          no\n",
       "1      Sunny   hot     high  strong          no\n",
       "2   overcast   hot     high    weak         yes\n",
       "3       Rain  mild     high    weak         yes\n",
       "4       Rain  cool   normal    weak         yes\n",
       "5       Rain  cool   normal  strong          no\n",
       "6   overcast  cool   normal  strong         yes\n",
       "7      Sunny  mild     high    weak          no\n",
       "8      Sunny  cool   normal    weak         yes\n",
       "9       Rain  mild   normal    weak         yes\n",
       "10     Sunny  mild   normal  strong         yes\n",
       "11  overcast  mild     high  strong         yes\n",
       "12  overcast   hot   normal    weak         yes\n",
       "13      Rain  mild     high  strong          no"
      ]
     },
     "execution_count": 5,
     "metadata": {},
     "output_type": "execute_result"
    }
   ],
   "source": [
    "import pandas as pd\n",
    "x= pd.read_csv(\"nv.csv\")\n",
    "x"
   ]
  },
  {
   "cell_type": "code",
   "execution_count": 6,
   "metadata": {},
   "outputs": [
    {
     "ename": "NameError",
     "evalue": "name 'z' is not defined",
     "output_type": "error",
     "traceback": [
      "\u001b[1;31m---------------------------------------------------------------------------\u001b[0m",
      "\u001b[1;31mNameError\u001b[0m                                 Traceback (most recent call last)",
      "\u001b[1;32m<ipython-input-6-7fc14a4cadfb>\u001b[0m in \u001b[0;36m<module>\u001b[1;34m\u001b[0m\n\u001b[1;32m----> 1\u001b[1;33m \u001b[0my\u001b[0m \u001b[1;33m=\u001b[0m \u001b[0mz\u001b[0m\u001b[1;33m[\u001b[0m\u001b[1;34m\"Plat Tennis\"\u001b[0m\u001b[1;33m]\u001b[0m\u001b[1;33m\u001b[0m\u001b[1;33m\u001b[0m\u001b[0m\n\u001b[0m\u001b[0;32m      2\u001b[0m \u001b[0mk\u001b[0m \u001b[1;33m=\u001b[0m\u001b[1;36m0\u001b[0m\u001b[1;33m\u001b[0m\u001b[1;33m\u001b[0m\u001b[0m\n\u001b[0;32m      3\u001b[0m \u001b[0mp\u001b[0m \u001b[1;33m=\u001b[0m\u001b[1;36m0\u001b[0m\u001b[1;33m\u001b[0m\u001b[1;33m\u001b[0m\u001b[0m\n\u001b[0;32m      4\u001b[0m \u001b[1;32mfor\u001b[0m \u001b[0mi\u001b[0m \u001b[1;32min\u001b[0m \u001b[0my\u001b[0m\u001b[1;33m:\u001b[0m\u001b[1;33m\u001b[0m\u001b[1;33m\u001b[0m\u001b[0m\n\u001b[0;32m      5\u001b[0m     \u001b[1;32mif\u001b[0m\u001b[1;33m(\u001b[0m\u001b[0mi\u001b[0m\u001b[1;33m==\u001b[0m\u001b[1;34m\"yes\"\u001b[0m\u001b[1;33m)\u001b[0m\u001b[1;33m:\u001b[0m\u001b[1;33m\u001b[0m\u001b[1;33m\u001b[0m\u001b[0m\n",
      "\u001b[1;31mNameError\u001b[0m: name 'z' is not defined"
     ]
    }
   ],
   "source": [
    "y = z[\"Plat Tennis\"]\n",
    "k =0\n",
    "p =0\n",
    "for i in y:\n",
    "    if(i==\"yes\"):\n",
    "        k = k+1\n",
    "    else:\n",
    "        p= p+1\n",
    "prob_yes = k /len(y)\n",
    "prob_no = p/len(y)\n",
    "print(prob_yes)\n",
    "print(prob_no)"
   ]
  },
  {
   "cell_type": "code",
   "execution_count": null,
   "metadata": {},
   "outputs": [],
   "source": [
    "p =data.shape\n",
    "p"
   ]
  },
  {
   "cell_type": "code",
   "execution_count": null,
   "metadata": {},
   "outputs": [],
   "source": [
    "p[1]"
   ]
  },
  {
   "cell_type": "code",
   "execution_count": 7,
   "metadata": {},
   "outputs": [
    {
     "data": {
      "text/plain": [
       "0      no\n",
       "1      no\n",
       "2     yes\n",
       "3     yes\n",
       "4     yes\n",
       "5      no\n",
       "6     yes\n",
       "7      no\n",
       "8     yes\n",
       "9     yes\n",
       "10    yes\n",
       "11    yes\n",
       "12    yes\n",
       "13     no\n",
       "Name: Plat Tennis, dtype: object"
      ]
     },
     "execution_count": 7,
     "metadata": {},
     "output_type": "execute_result"
    }
   ],
   "source": [
    "y = x[\"Plat Tennis\"]\n",
    "y"
   ]
  },
  {
   "cell_type": "code",
   "execution_count": 8,
   "metadata": {},
   "outputs": [
    {
     "name": "stdout",
     "output_type": "stream",
     "text": [
      "['name', 'outlook', 'overcast', 4, 'Rain', 5, 'Sunny', 5, 'name', 'temp', 'hot', 4, 'cool', 4, 'mild', 6, 'name', 'Humidity', 'high', 7, 'normal', 7, 'name', 'Wind', 'strong', 6, 'weak', 8]\n"
     ]
    }
   ],
   "source": [
    "jz=[]\n",
    "jk=[]\n",
    "for j in range(0,4):\n",
    "    s=x.columns[j]\n",
    "    sd=set(x[s])\n",
    "    sd=list(sd)\n",
    "    jz.append(\"name\")\n",
    "    jz.append(s)\n",
    "    jk.append(\"name\")\n",
    "    jk.append(s)\n",
    "    \n",
    "    for m in sd:\n",
    "        jz.append(m)\n",
    "        jk.append(m)\n",
    "        kl =0\n",
    "        tt=0\n",
    "        ttt=0\n",
    "\n",
    "        for i in range(0,14):\n",
    "            if(x[s][i]==m):\n",
    "                kl=kl+1\n",
    "                if(y[i]==\"yes\"):\n",
    "                    tt=tt+1\n",
    "                elif(y[i]==\"no\"):\n",
    "                    ttt=ttt+1\n",
    "                    \n",
    "                \n",
    "        jz.append(kl)\n",
    "        jk.append(\"yes\")\n",
    "        jk.append(tt)\n",
    "        jk.append(\"no\")\n",
    "        jk.append(ttt)\n",
    "print(jz)\n"
   ]
  },
  {
   "cell_type": "code",
   "execution_count": null,
   "metadata": {},
   "outputs": [],
   "source": []
  },
  {
   "cell_type": "code",
   "execution_count": 9,
   "metadata": {},
   "outputs": [
    {
     "data": {
      "text/plain": [
       "0       weak\n",
       "1     strong\n",
       "2       weak\n",
       "3       weak\n",
       "4       weak\n",
       "5     strong\n",
       "6     strong\n",
       "7       weak\n",
       "8       weak\n",
       "9       weak\n",
       "10    strong\n",
       "11    strong\n",
       "12      weak\n",
       "13    strong\n",
       "Name: Wind, dtype: object"
      ]
     },
     "execution_count": 9,
     "metadata": {},
     "output_type": "execute_result"
    }
   ],
   "source": [
    "for j in range(0,4):\n",
    "    s=x.columns[j]\n",
    "    sd=set(x[s])\n",
    "    sd=list(sd)\n",
    "x[s]"
   ]
  },
  {
   "cell_type": "code",
   "execution_count": null,
   "metadata": {},
   "outputs": [],
   "source": []
  },
  {
   "cell_type": "code",
   "execution_count": 10,
   "metadata": {},
   "outputs": [
    {
     "data": {
      "text/plain": [
       "['name', 'outlook', 'name', 'temp', 'name', 'Humidity', 'name', 'Wind']"
      ]
     },
     "execution_count": 10,
     "metadata": {},
     "output_type": "execute_result"
    }
   ],
   "source": [
    "jz=[]\n",
    "jk=[]\n",
    "for j in range(0,4):\n",
    "    s=x.columns[j]\n",
    "    sd=set(x[s])\n",
    "    sd=list(sd)\n",
    "    jz.append(\"name\")\n",
    "    jz.append(s)\n",
    "    jk.append(\"name\")\n",
    "    jk.append(s)\n",
    "jz   "
   ]
  },
  {
   "cell_type": "code",
   "execution_count": 11,
   "metadata": {},
   "outputs": [
    {
     "data": {
      "text/plain": [
       "['name', 'outlook', 'name', 'temp', 'name', 'Humidity', 'name', 'Wind']"
      ]
     },
     "execution_count": 11,
     "metadata": {},
     "output_type": "execute_result"
    }
   ],
   "source": [
    "jk"
   ]
  },
  {
   "cell_type": "code",
   "execution_count": 12,
   "metadata": {},
   "outputs": [
    {
     "data": {
      "text/plain": [
       "['name',\n",
       " 'outlook',\n",
       " 'overcast',\n",
       " 'Rain',\n",
       " 'Sunny',\n",
       " 'name',\n",
       " 'temp',\n",
       " 'hot',\n",
       " 'cool',\n",
       " 'mild',\n",
       " 'name',\n",
       " 'Humidity',\n",
       " 'high',\n",
       " 'normal',\n",
       " 'name',\n",
       " 'Wind',\n",
       " 'strong',\n",
       " 'weak']"
      ]
     },
     "execution_count": 12,
     "metadata": {},
     "output_type": "execute_result"
    }
   ],
   "source": [
    "jz=[]\n",
    "jk=[]\n",
    "for j in range(0,4):\n",
    "    s=x.columns[j]\n",
    "    sd=set(x[s])\n",
    "    sd=list(sd)\n",
    "    jz.append(\"name\")\n",
    "    jz.append(s)\n",
    "    jk.append(\"name\")\n",
    "    jk.append(s)\n",
    "    \n",
    "    for m in sd:\n",
    "    \n",
    "        kl=0\n",
    "        jz.append(m)\n",
    "        jk.append(m)\n",
    "jz\n",
    "jk\n"
   ]
  },
  {
   "cell_type": "code",
   "execution_count": 13,
   "metadata": {},
   "outputs": [
    {
     "data": {
      "text/plain": [
       "['name',\n",
       " 'outlook',\n",
       " 'overcast',\n",
       " 'overcast',\n",
       " 'yes',\n",
       " 4,\n",
       " 'no',\n",
       " 0,\n",
       " 'Rain',\n",
       " 'Rain',\n",
       " 'yes',\n",
       " 3,\n",
       " 'no',\n",
       " 2,\n",
       " 'Sunny',\n",
       " 'Sunny',\n",
       " 'yes',\n",
       " 2,\n",
       " 'no',\n",
       " 3,\n",
       " 'name',\n",
       " 'temp',\n",
       " 'hot',\n",
       " 'hot',\n",
       " 'yes',\n",
       " 2,\n",
       " 'no',\n",
       " 2,\n",
       " 'cool',\n",
       " 'cool',\n",
       " 'yes',\n",
       " 3,\n",
       " 'no',\n",
       " 1,\n",
       " 'mild',\n",
       " 'mild',\n",
       " 'yes',\n",
       " 4,\n",
       " 'no',\n",
       " 2,\n",
       " 'name',\n",
       " 'Humidity',\n",
       " 'high',\n",
       " 'high',\n",
       " 'yes',\n",
       " 3,\n",
       " 'no',\n",
       " 4,\n",
       " 'normal',\n",
       " 'normal',\n",
       " 'yes',\n",
       " 6,\n",
       " 'no',\n",
       " 1,\n",
       " 'name',\n",
       " 'Wind',\n",
       " 'strong',\n",
       " 'strong',\n",
       " 'yes',\n",
       " 3,\n",
       " 'no',\n",
       " 3,\n",
       " 'weak',\n",
       " 'weak',\n",
       " 'yes',\n",
       " 6,\n",
       " 'no',\n",
       " 2]"
      ]
     },
     "execution_count": 13,
     "metadata": {},
     "output_type": "execute_result"
    }
   ],
   "source": [
    "p = []\n",
    "q= []\n",
    "final = []\n",
    "for j in range(0,4):\n",
    "    s = x.columns[j]\n",
    "    st = set(x[s])\n",
    "    lt = list(st)\n",
    "    p.append(\"name\")\n",
    "    p.append(s)\n",
    "    q.append(\"name\")\n",
    "    q.append(s)\n",
    "    \n",
    "    for m in st:\n",
    "        k =0\n",
    "        q.append(m)\n",
    "        q.append(m)\n",
    "        t= 0\n",
    "        tt=0\n",
    "        \n",
    "        for i in range(0,14):\n",
    "            if(x[s][i]==m):\n",
    "                k=k+1\n",
    "                if(y[i]==\"yes\"):\n",
    "                    t=t+1\n",
    "                elif(y[i]==\"no\"):\n",
    "                    tt=tt+1\n",
    "                    \n",
    "                \n",
    "        p.append(k)\n",
    "        q.append(\"yes\")\n",
    "        q.append(t)\n",
    "        q.append(\"no\")\n",
    "        q.append(tt)\n",
    "q\n"
   ]
  },
  {
   "cell_type": "code",
   "execution_count": null,
   "metadata": {},
   "outputs": [],
   "source": []
  },
  {
   "cell_type": "code",
   "execution_count": 14,
   "metadata": {},
   "outputs": [
    {
     "data": {
      "text/html": [
       "<div>\n",
       "<style scoped>\n",
       "    .dataframe tbody tr th:only-of-type {\n",
       "        vertical-align: middle;\n",
       "    }\n",
       "\n",
       "    .dataframe tbody tr th {\n",
       "        vertical-align: top;\n",
       "    }\n",
       "\n",
       "    .dataframe thead th {\n",
       "        text-align: right;\n",
       "    }\n",
       "</style>\n",
       "<table border=\"1\" class=\"dataframe\">\n",
       "  <thead>\n",
       "    <tr style=\"text-align: right;\">\n",
       "      <th></th>\n",
       "      <th>outlook</th>\n",
       "      <th>temp</th>\n",
       "      <th>Humidity</th>\n",
       "      <th>Wind</th>\n",
       "      <th>Plat Tennis</th>\n",
       "    </tr>\n",
       "  </thead>\n",
       "  <tbody>\n",
       "    <tr>\n",
       "      <th>0</th>\n",
       "      <td>Sunny</td>\n",
       "      <td>hot</td>\n",
       "      <td>high</td>\n",
       "      <td>weak</td>\n",
       "      <td>no</td>\n",
       "    </tr>\n",
       "    <tr>\n",
       "      <th>1</th>\n",
       "      <td>Sunny</td>\n",
       "      <td>hot</td>\n",
       "      <td>high</td>\n",
       "      <td>strong</td>\n",
       "      <td>no</td>\n",
       "    </tr>\n",
       "    <tr>\n",
       "      <th>2</th>\n",
       "      <td>overcast</td>\n",
       "      <td>hot</td>\n",
       "      <td>high</td>\n",
       "      <td>weak</td>\n",
       "      <td>yes</td>\n",
       "    </tr>\n",
       "    <tr>\n",
       "      <th>3</th>\n",
       "      <td>Rain</td>\n",
       "      <td>mild</td>\n",
       "      <td>high</td>\n",
       "      <td>weak</td>\n",
       "      <td>yes</td>\n",
       "    </tr>\n",
       "    <tr>\n",
       "      <th>4</th>\n",
       "      <td>Rain</td>\n",
       "      <td>cool</td>\n",
       "      <td>normal</td>\n",
       "      <td>weak</td>\n",
       "      <td>yes</td>\n",
       "    </tr>\n",
       "    <tr>\n",
       "      <th>5</th>\n",
       "      <td>Rain</td>\n",
       "      <td>cool</td>\n",
       "      <td>normal</td>\n",
       "      <td>strong</td>\n",
       "      <td>no</td>\n",
       "    </tr>\n",
       "    <tr>\n",
       "      <th>6</th>\n",
       "      <td>overcast</td>\n",
       "      <td>cool</td>\n",
       "      <td>normal</td>\n",
       "      <td>strong</td>\n",
       "      <td>yes</td>\n",
       "    </tr>\n",
       "    <tr>\n",
       "      <th>7</th>\n",
       "      <td>Sunny</td>\n",
       "      <td>mild</td>\n",
       "      <td>high</td>\n",
       "      <td>weak</td>\n",
       "      <td>no</td>\n",
       "    </tr>\n",
       "    <tr>\n",
       "      <th>8</th>\n",
       "      <td>Sunny</td>\n",
       "      <td>cool</td>\n",
       "      <td>normal</td>\n",
       "      <td>weak</td>\n",
       "      <td>yes</td>\n",
       "    </tr>\n",
       "    <tr>\n",
       "      <th>9</th>\n",
       "      <td>Rain</td>\n",
       "      <td>mild</td>\n",
       "      <td>normal</td>\n",
       "      <td>weak</td>\n",
       "      <td>yes</td>\n",
       "    </tr>\n",
       "    <tr>\n",
       "      <th>10</th>\n",
       "      <td>Sunny</td>\n",
       "      <td>mild</td>\n",
       "      <td>normal</td>\n",
       "      <td>strong</td>\n",
       "      <td>yes</td>\n",
       "    </tr>\n",
       "    <tr>\n",
       "      <th>11</th>\n",
       "      <td>overcast</td>\n",
       "      <td>mild</td>\n",
       "      <td>high</td>\n",
       "      <td>strong</td>\n",
       "      <td>yes</td>\n",
       "    </tr>\n",
       "    <tr>\n",
       "      <th>12</th>\n",
       "      <td>overcast</td>\n",
       "      <td>hot</td>\n",
       "      <td>normal</td>\n",
       "      <td>weak</td>\n",
       "      <td>yes</td>\n",
       "    </tr>\n",
       "    <tr>\n",
       "      <th>13</th>\n",
       "      <td>Rain</td>\n",
       "      <td>mild</td>\n",
       "      <td>high</td>\n",
       "      <td>strong</td>\n",
       "      <td>no</td>\n",
       "    </tr>\n",
       "  </tbody>\n",
       "</table>\n",
       "</div>"
      ],
      "text/plain": [
       "     outlook  temp Humidity    Wind Plat Tennis\n",
       "0      Sunny   hot     high    weak          no\n",
       "1      Sunny   hot     high  strong          no\n",
       "2   overcast   hot     high    weak         yes\n",
       "3       Rain  mild     high    weak         yes\n",
       "4       Rain  cool   normal    weak         yes\n",
       "5       Rain  cool   normal  strong          no\n",
       "6   overcast  cool   normal  strong         yes\n",
       "7      Sunny  mild     high    weak          no\n",
       "8      Sunny  cool   normal    weak         yes\n",
       "9       Rain  mild   normal    weak         yes\n",
       "10     Sunny  mild   normal  strong         yes\n",
       "11  overcast  mild     high  strong         yes\n",
       "12  overcast   hot   normal    weak         yes\n",
       "13      Rain  mild     high  strong          no"
      ]
     },
     "execution_count": 14,
     "metadata": {},
     "output_type": "execute_result"
    }
   ],
   "source": [
    "import pandas as pd\n",
    "data= pd.read_csv(\"nv.csv\")\n",
    "data"
   ]
  },
  {
   "cell_type": "code",
   "execution_count": 15,
   "metadata": {},
   "outputs": [],
   "source": [
    "y = data[\"Plat Tennis\"]"
   ]
  },
  {
   "cell_type": "code",
   "execution_count": 16,
   "metadata": {},
   "outputs": [
    {
     "data": {
      "text/plain": [
       "5"
      ]
     },
     "execution_count": 16,
     "metadata": {},
     "output_type": "execute_result"
    }
   ],
   "source": [
    "tc = len(data.axes[1])\n",
    "tc"
   ]
  },
  {
   "cell_type": "code",
   "execution_count": 17,
   "metadata": {},
   "outputs": [
    {
     "data": {
      "text/plain": [
       "['outlook',\n",
       " {'Rain', 'Sunny', 'overcast'},\n",
       " 'overcast',\n",
       " 'yes',\n",
       " 4,\n",
       " 'no',\n",
       " 0,\n",
       " 'Rain',\n",
       " 'yes',\n",
       " 3,\n",
       " 'no',\n",
       " 2,\n",
       " 'Sunny',\n",
       " 'yes',\n",
       " 2,\n",
       " 'no',\n",
       " 3,\n",
       " 'temp',\n",
       " {'cool', 'hot', 'mild'},\n",
       " 'hot',\n",
       " 'yes',\n",
       " 2,\n",
       " 'no',\n",
       " 2,\n",
       " 'cool',\n",
       " 'yes',\n",
       " 3,\n",
       " 'no',\n",
       " 1,\n",
       " 'mild',\n",
       " 'yes',\n",
       " 4,\n",
       " 'no',\n",
       " 2,\n",
       " 'Humidity',\n",
       " {'high', 'normal'},\n",
       " 'high',\n",
       " 'yes',\n",
       " 3,\n",
       " 'no',\n",
       " 4,\n",
       " 'normal',\n",
       " 'yes',\n",
       " 6,\n",
       " 'no',\n",
       " 1,\n",
       " 'Wind',\n",
       " {'strong', 'weak'},\n",
       " 'strong',\n",
       " 'yes',\n",
       " 3,\n",
       " 'no',\n",
       " 3,\n",
       " 'weak',\n",
       " 'yes',\n",
       " 6,\n",
       " 'no',\n",
       " 2]"
      ]
     },
     "execution_count": 17,
     "metadata": {},
     "output_type": "execute_result"
    }
   ],
   "source": [
    "p =[]\n",
    "for i in range(0,4):\n",
    "    c = data.columns[i]\n",
    "    sd = set(data[c])\n",
    "    p.append(c)\n",
    "    p.append(sd)\n",
    "    \n",
    "    for m in sd:\n",
    "        p.append(m)\n",
    "        \n",
    "        k =0\n",
    "        r = 0\n",
    "        t = 0\n",
    "        for i in range(0,14):\n",
    "            if(data[c][i]==m):\n",
    "                k = k+1\n",
    "                if(y[i]==\"yes\"):\n",
    "                    r= r+1\n",
    "                elif(y[i]==\"no\"):\n",
    "                    t = t+1\n",
    "        p.append(\"yes\")\n",
    "        p.append(r)\n",
    "        p.append(\"no\")\n",
    "        p.append(t)\n",
    "        \n",
    "p\n",
    "                    \n",
    "                    "
   ]
  },
  {
   "cell_type": "code",
   "execution_count": 48,
   "metadata": {},
   "outputs": [
    {
     "data": {
      "text/plain": [
       "['outlook',\n",
       " ['overcast', 'Rain', 'Sunny'],\n",
       " 'temp',\n",
       " ['hot', 'cool', 'mild'],\n",
       " 'Humidity',\n",
       " ['high', 'normal'],\n",
       " 'Wind',\n",
       " ['strong', 'weak']]"
      ]
     },
     "execution_count": 48,
     "metadata": {},
     "output_type": "execute_result"
    }
   ],
   "source": [
    "p =[]\n",
    "for i in range(0,4):\n",
    "    c = data.columns[i]\n",
    "    sd = set(data[c])\n",
    "    sd = list(sd)\n",
    "    p.append(c)\n",
    "    p.append(sd)\n",
    "    \n",
    "\n",
    "       \n",
    "p"
   ]
  },
  {
   "cell_type": "code",
   "execution_count": 49,
   "metadata": {},
   "outputs": [
    {
     "name": "stdout",
     "output_type": "stream",
     "text": [
      "['outlook']\n",
      "[['overcast', 'Rain', 'Sunny']]\n",
      "['temp']\n",
      "[['hot', 'cool', 'mild']]\n",
      "['Humidity']\n",
      "[['high', 'normal']]\n",
      "['Wind']\n",
      "[['strong', 'weak']]\n"
     ]
    }
   ],
   "source": [
    "a = []\n",
    "b = []\n",
    "for i in range(0,4):\n",
    "    c = data.columns[i]\n",
    "    sd = set(data[c])\n",
    "    sd =list(sd)\n",
    "    \n",
    "    a.append(c)\n",
    "    b.append(sd)\n",
    "    \n",
    "    print(a)\n",
    "    print(b)\n",
    "    \n",
    "    a.clear()\n",
    "    b.clear()"
   ]
  },
  {
   "cell_type": "code",
   "execution_count": 43,
   "metadata": {},
   "outputs": [
    {
     "data": {
      "text/html": [
       "<div>\n",
       "<style scoped>\n",
       "    .dataframe tbody tr th:only-of-type {\n",
       "        vertical-align: middle;\n",
       "    }\n",
       "\n",
       "    .dataframe tbody tr th {\n",
       "        vertical-align: top;\n",
       "    }\n",
       "\n",
       "    .dataframe thead th {\n",
       "        text-align: right;\n",
       "    }\n",
       "</style>\n",
       "<table border=\"1\" class=\"dataframe\">\n",
       "  <thead>\n",
       "    <tr style=\"text-align: right;\">\n",
       "      <th></th>\n",
       "      <th>outlook</th>\n",
       "      <th>temp</th>\n",
       "      <th>Humidity</th>\n",
       "      <th>Wind</th>\n",
       "      <th>Plat Tennis</th>\n",
       "    </tr>\n",
       "  </thead>\n",
       "  <tbody>\n",
       "    <tr>\n",
       "      <th>0</th>\n",
       "      <td>Sunny</td>\n",
       "      <td>hot</td>\n",
       "      <td>high</td>\n",
       "      <td>weak</td>\n",
       "      <td>no</td>\n",
       "    </tr>\n",
       "    <tr>\n",
       "      <th>1</th>\n",
       "      <td>Sunny</td>\n",
       "      <td>hot</td>\n",
       "      <td>high</td>\n",
       "      <td>strong</td>\n",
       "      <td>no</td>\n",
       "    </tr>\n",
       "    <tr>\n",
       "      <th>2</th>\n",
       "      <td>overcast</td>\n",
       "      <td>hot</td>\n",
       "      <td>high</td>\n",
       "      <td>weak</td>\n",
       "      <td>yes</td>\n",
       "    </tr>\n",
       "    <tr>\n",
       "      <th>3</th>\n",
       "      <td>Rain</td>\n",
       "      <td>mild</td>\n",
       "      <td>high</td>\n",
       "      <td>weak</td>\n",
       "      <td>yes</td>\n",
       "    </tr>\n",
       "    <tr>\n",
       "      <th>4</th>\n",
       "      <td>Rain</td>\n",
       "      <td>cool</td>\n",
       "      <td>normal</td>\n",
       "      <td>weak</td>\n",
       "      <td>yes</td>\n",
       "    </tr>\n",
       "    <tr>\n",
       "      <th>5</th>\n",
       "      <td>Rain</td>\n",
       "      <td>cool</td>\n",
       "      <td>normal</td>\n",
       "      <td>strong</td>\n",
       "      <td>no</td>\n",
       "    </tr>\n",
       "    <tr>\n",
       "      <th>6</th>\n",
       "      <td>overcast</td>\n",
       "      <td>cool</td>\n",
       "      <td>normal</td>\n",
       "      <td>strong</td>\n",
       "      <td>yes</td>\n",
       "    </tr>\n",
       "    <tr>\n",
       "      <th>7</th>\n",
       "      <td>Sunny</td>\n",
       "      <td>mild</td>\n",
       "      <td>high</td>\n",
       "      <td>weak</td>\n",
       "      <td>no</td>\n",
       "    </tr>\n",
       "    <tr>\n",
       "      <th>8</th>\n",
       "      <td>Sunny</td>\n",
       "      <td>cool</td>\n",
       "      <td>normal</td>\n",
       "      <td>weak</td>\n",
       "      <td>yes</td>\n",
       "    </tr>\n",
       "    <tr>\n",
       "      <th>9</th>\n",
       "      <td>Rain</td>\n",
       "      <td>mild</td>\n",
       "      <td>normal</td>\n",
       "      <td>weak</td>\n",
       "      <td>yes</td>\n",
       "    </tr>\n",
       "    <tr>\n",
       "      <th>10</th>\n",
       "      <td>Sunny</td>\n",
       "      <td>mild</td>\n",
       "      <td>normal</td>\n",
       "      <td>strong</td>\n",
       "      <td>yes</td>\n",
       "    </tr>\n",
       "    <tr>\n",
       "      <th>11</th>\n",
       "      <td>overcast</td>\n",
       "      <td>mild</td>\n",
       "      <td>high</td>\n",
       "      <td>strong</td>\n",
       "      <td>yes</td>\n",
       "    </tr>\n",
       "    <tr>\n",
       "      <th>12</th>\n",
       "      <td>overcast</td>\n",
       "      <td>hot</td>\n",
       "      <td>normal</td>\n",
       "      <td>weak</td>\n",
       "      <td>yes</td>\n",
       "    </tr>\n",
       "    <tr>\n",
       "      <th>13</th>\n",
       "      <td>Rain</td>\n",
       "      <td>mild</td>\n",
       "      <td>high</td>\n",
       "      <td>strong</td>\n",
       "      <td>no</td>\n",
       "    </tr>\n",
       "  </tbody>\n",
       "</table>\n",
       "</div>"
      ],
      "text/plain": [
       "     outlook  temp Humidity    Wind Plat Tennis\n",
       "0      Sunny   hot     high    weak          no\n",
       "1      Sunny   hot     high  strong          no\n",
       "2   overcast   hot     high    weak         yes\n",
       "3       Rain  mild     high    weak         yes\n",
       "4       Rain  cool   normal    weak         yes\n",
       "5       Rain  cool   normal  strong          no\n",
       "6   overcast  cool   normal  strong         yes\n",
       "7      Sunny  mild     high    weak          no\n",
       "8      Sunny  cool   normal    weak         yes\n",
       "9       Rain  mild   normal    weak         yes\n",
       "10     Sunny  mild   normal  strong         yes\n",
       "11  overcast  mild     high  strong         yes\n",
       "12  overcast   hot   normal    weak         yes\n",
       "13      Rain  mild     high  strong          no"
      ]
     },
     "execution_count": 43,
     "metadata": {},
     "output_type": "execute_result"
    }
   ],
   "source": [
    "import pandas as pd\n",
    "data= pd.read_csv(\"nv.csv\")\n",
    "data"
   ]
  },
  {
   "cell_type": "code",
   "execution_count": 44,
   "metadata": {},
   "outputs": [],
   "source": [
    "y = data[\"Plat Tennis\"]"
   ]
  },
  {
   "cell_type": "code",
   "execution_count": 45,
   "metadata": {},
   "outputs": [
    {
     "data": {
      "text/plain": [
       "5"
      ]
     },
     "execution_count": 45,
     "metadata": {},
     "output_type": "execute_result"
    }
   ],
   "source": [
    "tc = len(data.axes[1])\n",
    "tc"
   ]
  },
  {
   "cell_type": "code",
   "execution_count": 47,
   "metadata": {},
   "outputs": [
    {
     "name": "stdout",
     "output_type": "stream",
     "text": [
      "['outlook']\n",
      "[{'overcast'}, 4, 'yes', 4, 'no', 0, {'Rain'}, 5, 'yes', 3, 'no', 2, {'Sunny'}, 5, 'yes', 2, 'no', 3]\n",
      "['temp']\n",
      "[{'hot'}, 4, 'yes', 2, 'no', 2, {'cool'}, 4, 'yes', 3, 'no', 1, {'mild'}, 6, 'yes', 4, 'no', 2]\n",
      "['Humidity']\n",
      "[{'high'}, 7, 'yes', 3, 'no', 4, {'normal'}, 7, 'yes', 6, 'no', 1]\n",
      "['Wind']\n",
      "[{'strong'}, 6, 'yes', 3, 'no', 3, {'weak'}, 8, 'yes', 6, 'no', 2]\n"
     ]
    }
   ],
   "source": [
    "a = []\n",
    "b = []\n",
    "for i in range(0,4):\n",
    "    c = data.columns[i]\n",
    "    sd = set(data[c])\n",
    "    sd =list(sd)\n",
    "    a.append(c)   \n",
    "  \n",
    "    for m in sd:\n",
    "        b.append({m})\n",
    "        \n",
    "        k =0\n",
    "        r = 0\n",
    "        t = 0\n",
    "        for i in range(0,14):\n",
    "            if(data[c][i]==m):\n",
    "                k = k+1\n",
    "                if(y[i]==\"yes\"):\n",
    "                    r= r+1\n",
    "                elif(y[i]==\"no\"):\n",
    "                    t = t+1\n",
    "        b.append(k)\n",
    "        b.append(\"yes\")\n",
    "        b.append(r)\n",
    "        b.append(\"no\")\n",
    "        b.append(t)\n",
    "        \n",
    "    print(a)       \n",
    "    print(b)\n",
    "    a.clear()\n",
    "    b.clear()\n",
    "    "
   ]
  },
  {
   "cell_type": "code",
   "execution_count": 40,
   "metadata": {},
   "outputs": [
    {
     "name": "stdout",
     "output_type": "stream",
     "text": [
      "{'overcast': [4, 4, 0], 'Rain': [5, 3, 2], 'Sunny': [5, 2, 3], 'hot': [4, 2, 2], 'cool': [4, 3, 1], 'mild': [6, 4, 2], 'high': [7, 3, 4], 'normal': [7, 6, 1], 'strong': [6, 3, 3], 'weak': [8, 6, 2]}\n"
     ]
    }
   ],
   "source": [
    "a = []\n",
    "b = []\n",
    "an = {}\n",
    "l=[]\n",
    "for i in range(0,4):\n",
    "    c = data.columns[i]\n",
    "    sd = set(data[c])\n",
    "    sd =list(sd)\n",
    "    a.append(c) \n",
    "    l.append(\"column_name\")\n",
    "    l.append(c)\n",
    "    count_yes=0\n",
    "    count_no=0\n",
    "  \n",
    "    for m in sd:\n",
    "        b.append(m)\n",
    "        \n",
    "        k =0\n",
    "        r = 0\n",
    "        t = 0\n",
    "        for i in range(0,14):\n",
    "            if(data[c][i]==m):\n",
    "                k = k+1\n",
    "                if(y[i]==\"yes\"):\n",
    "                    r= r+1\n",
    "                    count_yes=count_yes+1\n",
    "                elif(y[i]==\"no\"):\n",
    "                    t = t+1\n",
    "                    count_no=count_no+1\n",
    "        an.update({m:[k,r,t]})\n",
    "        b.append(\"yes\")\n",
    "        b.append(r)\n",
    "        b.append(\"no\")\n",
    "        b.append(t)\n",
    "    l.append(count_yes)\n",
    "    l.append(count_no)\n",
    "        \n",
    "print(an)\n",
    "    "
   ]
  },
  {
   "cell_type": "code",
   "execution_count": 41,
   "metadata": {},
   "outputs": [
    {
     "data": {
      "text/plain": [
       "['column_name',\n",
       " 'outlook',\n",
       " 9,\n",
       " 5,\n",
       " 'column_name',\n",
       " 'temp',\n",
       " 9,\n",
       " 5,\n",
       " 'column_name',\n",
       " 'Humidity',\n",
       " 9,\n",
       " 5,\n",
       " 'column_name',\n",
       " 'Wind',\n",
       " 9,\n",
       " 5]"
      ]
     },
     "execution_count": 41,
     "metadata": {},
     "output_type": "execute_result"
    }
   ],
   "source": [
    "l"
   ]
  },
  {
   "cell_type": "code",
   "execution_count": null,
   "metadata": {},
   "outputs": [],
   "source": [
    "p_outlook_overcast_yes = 4/9\n",
    "p_outlook_rain_yes = 3/9\n",
    "p_outlook_suuny_yes = 2/9\n",
    "\n",
    "\n",
    "p_outlook_overcast_n = 0/5\n",
    "p_outlook_rain_n = 2/5\n",
    "p_outlook_sunny_n = 3/5\n",
    "\n",
    "p_temp_hot_y = 2/9\n",
    "p_temp_cool_y = 3/9\n",
    "p_temp_mild_y = 4/9\n",
    "\n",
    "p_temp_hot_n = 2/5\n",
    "p_temp_cool_n = 1/5\n",
    "p_temp_mild_n = 2/5\n",
    "\n",
    "p_humidity_high_y = 3/9\n",
    "p_humidity_normal_y =6/9\n",
    "\n",
    "p_humidity_high_n =4/5\n",
    "p_humidity_normal_n =1/5\n",
    "\n",
    "p_wind_strong_y = 3/9\n",
    "p_wind_weak_y = 6/9\n",
    "\n",
    "p_wind_strong_n = 3/5\n",
    "p_wind_weak_n = 2/5\n",
    "\n"
   ]
  },
  {
   "cell_type": "code",
   "execution_count": 30,
   "metadata": {},
   "outputs": [],
   "source": [
    "data2 = pd.DataFrame(an,index = [\"no. of times\",\"yes\",\"no\"])\n"
   ]
  },
  {
   "cell_type": "code",
   "execution_count": 31,
   "metadata": {},
   "outputs": [
    {
     "data": {
      "text/html": [
       "<div>\n",
       "<style scoped>\n",
       "    .dataframe tbody tr th:only-of-type {\n",
       "        vertical-align: middle;\n",
       "    }\n",
       "\n",
       "    .dataframe tbody tr th {\n",
       "        vertical-align: top;\n",
       "    }\n",
       "\n",
       "    .dataframe thead th {\n",
       "        text-align: right;\n",
       "    }\n",
       "</style>\n",
       "<table border=\"1\" class=\"dataframe\">\n",
       "  <thead>\n",
       "    <tr style=\"text-align: right;\">\n",
       "      <th></th>\n",
       "      <th>overcast</th>\n",
       "      <th>Rain</th>\n",
       "      <th>Sunny</th>\n",
       "      <th>hot</th>\n",
       "      <th>cool</th>\n",
       "      <th>mild</th>\n",
       "      <th>high</th>\n",
       "      <th>normal</th>\n",
       "      <th>strong</th>\n",
       "      <th>weak</th>\n",
       "    </tr>\n",
       "  </thead>\n",
       "  <tbody>\n",
       "    <tr>\n",
       "      <th>no. of times</th>\n",
       "      <td>4</td>\n",
       "      <td>5</td>\n",
       "      <td>5</td>\n",
       "      <td>4</td>\n",
       "      <td>4</td>\n",
       "      <td>6</td>\n",
       "      <td>7</td>\n",
       "      <td>7</td>\n",
       "      <td>6</td>\n",
       "      <td>8</td>\n",
       "    </tr>\n",
       "    <tr>\n",
       "      <th>yes</th>\n",
       "      <td>4</td>\n",
       "      <td>3</td>\n",
       "      <td>2</td>\n",
       "      <td>2</td>\n",
       "      <td>3</td>\n",
       "      <td>4</td>\n",
       "      <td>3</td>\n",
       "      <td>6</td>\n",
       "      <td>3</td>\n",
       "      <td>6</td>\n",
       "    </tr>\n",
       "    <tr>\n",
       "      <th>no</th>\n",
       "      <td>0</td>\n",
       "      <td>2</td>\n",
       "      <td>3</td>\n",
       "      <td>2</td>\n",
       "      <td>1</td>\n",
       "      <td>2</td>\n",
       "      <td>4</td>\n",
       "      <td>1</td>\n",
       "      <td>3</td>\n",
       "      <td>2</td>\n",
       "    </tr>\n",
       "  </tbody>\n",
       "</table>\n",
       "</div>"
      ],
      "text/plain": [
       "              overcast  Rain  Sunny  hot  cool  mild  high  normal  strong  \\\n",
       "no. of times         4     5      5    4     4     6     7       7       6   \n",
       "yes                  4     3      2    2     3     4     3       6       3   \n",
       "no                   0     2      3    2     1     2     4       1       3   \n",
       "\n",
       "              weak  \n",
       "no. of times     8  \n",
       "yes              6  \n",
       "no               2  "
      ]
     },
     "execution_count": 31,
     "metadata": {},
     "output_type": "execute_result"
    }
   ],
   "source": [
    "data2"
   ]
  },
  {
   "cell_type": "code",
   "execution_count": null,
   "metadata": {},
   "outputs": [],
   "source": []
  },
  {
   "cell_type": "code",
   "execution_count": null,
   "metadata": {},
   "outputs": [],
   "source": []
  },
  {
   "cell_type": "code",
   "execution_count": null,
   "metadata": {},
   "outputs": [],
   "source": []
  },
  {
   "cell_type": "code",
   "execution_count": null,
   "metadata": {},
   "outputs": [],
   "source": []
  },
  {
   "cell_type": "code",
   "execution_count": null,
   "metadata": {},
   "outputs": [],
   "source": []
  },
  {
   "cell_type": "code",
   "execution_count": null,
   "metadata": {},
   "outputs": [],
   "source": []
  },
  {
   "cell_type": "code",
   "execution_count": null,
   "metadata": {},
   "outputs": [],
   "source": []
  },
  {
   "cell_type": "code",
   "execution_count": null,
   "metadata": {},
   "outputs": [],
   "source": []
  },
  {
   "cell_type": "code",
   "execution_count": null,
   "metadata": {},
   "outputs": [],
   "source": []
  },
  {
   "cell_type": "code",
   "execution_count": null,
   "metadata": {},
   "outputs": [],
   "source": []
  },
  {
   "cell_type": "code",
   "execution_count": null,
   "metadata": {},
   "outputs": [],
   "source": []
  },
  {
   "cell_type": "code",
   "execution_count": null,
   "metadata": {},
   "outputs": [],
   "source": []
  },
  {
   "cell_type": "code",
   "execution_count": null,
   "metadata": {},
   "outputs": [],
   "source": []
  },
  {
   "cell_type": "code",
   "execution_count": null,
   "metadata": {},
   "outputs": [],
   "source": []
  },
  {
   "cell_type": "code",
   "execution_count": null,
   "metadata": {},
   "outputs": [],
   "source": []
  },
  {
   "cell_type": "code",
   "execution_count": null,
   "metadata": {},
   "outputs": [],
   "source": []
  },
  {
   "cell_type": "code",
   "execution_count": null,
   "metadata": {},
   "outputs": [],
   "source": []
  },
  {
   "cell_type": "code",
   "execution_count": null,
   "metadata": {},
   "outputs": [],
   "source": []
  },
  {
   "cell_type": "code",
   "execution_count": null,
   "metadata": {},
   "outputs": [],
   "source": []
  },
  {
   "cell_type": "code",
   "execution_count": null,
   "metadata": {},
   "outputs": [],
   "source": []
  },
  {
   "cell_type": "code",
   "execution_count": null,
   "metadata": {},
   "outputs": [],
   "source": []
  },
  {
   "cell_type": "code",
   "execution_count": null,
   "metadata": {},
   "outputs": [],
   "source": []
  },
  {
   "cell_type": "code",
   "execution_count": null,
   "metadata": {},
   "outputs": [],
   "source": []
  },
  {
   "cell_type": "code",
   "execution_count": null,
   "metadata": {},
   "outputs": [],
   "source": []
  },
  {
   "cell_type": "code",
   "execution_count": null,
   "metadata": {},
   "outputs": [],
   "source": []
  },
  {
   "cell_type": "code",
   "execution_count": null,
   "metadata": {},
   "outputs": [],
   "source": []
  },
  {
   "cell_type": "code",
   "execution_count": null,
   "metadata": {},
   "outputs": [],
   "source": []
  },
  {
   "cell_type": "code",
   "execution_count": null,
   "metadata": {},
   "outputs": [],
   "source": []
  },
  {
   "cell_type": "code",
   "execution_count": null,
   "metadata": {},
   "outputs": [],
   "source": []
  },
  {
   "cell_type": "code",
   "execution_count": null,
   "metadata": {},
   "outputs": [],
   "source": []
  },
  {
   "cell_type": "code",
   "execution_count": null,
   "metadata": {},
   "outputs": [],
   "source": []
  },
  {
   "cell_type": "code",
   "execution_count": null,
   "metadata": {},
   "outputs": [],
   "source": []
  },
  {
   "cell_type": "code",
   "execution_count": null,
   "metadata": {},
   "outputs": [],
   "source": []
  },
  {
   "cell_type": "code",
   "execution_count": null,
   "metadata": {},
   "outputs": [],
   "source": []
  },
  {
   "cell_type": "code",
   "execution_count": null,
   "metadata": {},
   "outputs": [],
   "source": []
  },
  {
   "cell_type": "code",
   "execution_count": null,
   "metadata": {},
   "outputs": [],
   "source": []
  },
  {
   "cell_type": "code",
   "execution_count": null,
   "metadata": {},
   "outputs": [],
   "source": []
  },
  {
   "cell_type": "code",
   "execution_count": null,
   "metadata": {},
   "outputs": [],
   "source": []
  },
  {
   "cell_type": "code",
   "execution_count": null,
   "metadata": {},
   "outputs": [],
   "source": []
  },
  {
   "cell_type": "code",
   "execution_count": null,
   "metadata": {},
   "outputs": [],
   "source": []
  },
  {
   "cell_type": "code",
   "execution_count": null,
   "metadata": {},
   "outputs": [],
   "source": []
  },
  {
   "cell_type": "code",
   "execution_count": null,
   "metadata": {},
   "outputs": [],
   "source": []
  },
  {
   "cell_type": "code",
   "execution_count": null,
   "metadata": {},
   "outputs": [],
   "source": []
  },
  {
   "cell_type": "code",
   "execution_count": null,
   "metadata": {},
   "outputs": [],
   "source": []
  },
  {
   "cell_type": "code",
   "execution_count": null,
   "metadata": {},
   "outputs": [],
   "source": []
  },
  {
   "cell_type": "code",
   "execution_count": null,
   "metadata": {},
   "outputs": [],
   "source": []
  },
  {
   "cell_type": "code",
   "execution_count": null,
   "metadata": {},
   "outputs": [],
   "source": []
  },
  {
   "cell_type": "code",
   "execution_count": null,
   "metadata": {},
   "outputs": [],
   "source": []
  },
  {
   "cell_type": "code",
   "execution_count": null,
   "metadata": {},
   "outputs": [],
   "source": []
  },
  {
   "cell_type": "code",
   "execution_count": null,
   "metadata": {},
   "outputs": [],
   "source": []
  },
  {
   "cell_type": "code",
   "execution_count": null,
   "metadata": {},
   "outputs": [],
   "source": []
  },
  {
   "cell_type": "code",
   "execution_count": null,
   "metadata": {},
   "outputs": [],
   "source": []
  },
  {
   "cell_type": "code",
   "execution_count": null,
   "metadata": {},
   "outputs": [],
   "source": []
  },
  {
   "cell_type": "code",
   "execution_count": null,
   "metadata": {},
   "outputs": [],
   "source": []
  },
  {
   "cell_type": "code",
   "execution_count": null,
   "metadata": {},
   "outputs": [],
   "source": []
  },
  {
   "cell_type": "code",
   "execution_count": null,
   "metadata": {},
   "outputs": [],
   "source": []
  },
  {
   "cell_type": "code",
   "execution_count": null,
   "metadata": {},
   "outputs": [],
   "source": []
  },
  {
   "cell_type": "code",
   "execution_count": null,
   "metadata": {},
   "outputs": [],
   "source": []
  },
  {
   "cell_type": "code",
   "execution_count": null,
   "metadata": {},
   "outputs": [],
   "source": []
  },
  {
   "cell_type": "code",
   "execution_count": null,
   "metadata": {},
   "outputs": [],
   "source": []
  },
  {
   "cell_type": "code",
   "execution_count": null,
   "metadata": {},
   "outputs": [],
   "source": []
  },
  {
   "cell_type": "code",
   "execution_count": null,
   "metadata": {},
   "outputs": [],
   "source": []
  },
  {
   "cell_type": "code",
   "execution_count": null,
   "metadata": {},
   "outputs": [],
   "source": []
  },
  {
   "cell_type": "code",
   "execution_count": null,
   "metadata": {},
   "outputs": [],
   "source": []
  },
  {
   "cell_type": "code",
   "execution_count": null,
   "metadata": {},
   "outputs": [],
   "source": []
  },
  {
   "cell_type": "code",
   "execution_count": null,
   "metadata": {},
   "outputs": [],
   "source": []
  },
  {
   "cell_type": "code",
   "execution_count": null,
   "metadata": {},
   "outputs": [],
   "source": []
  },
  {
   "cell_type": "code",
   "execution_count": null,
   "metadata": {},
   "outputs": [],
   "source": []
  },
  {
   "cell_type": "code",
   "execution_count": null,
   "metadata": {},
   "outputs": [],
   "source": []
  },
  {
   "cell_type": "code",
   "execution_count": null,
   "metadata": {},
   "outputs": [],
   "source": []
  },
  {
   "cell_type": "code",
   "execution_count": null,
   "metadata": {},
   "outputs": [],
   "source": []
  },
  {
   "cell_type": "code",
   "execution_count": null,
   "metadata": {},
   "outputs": [],
   "source": []
  },
  {
   "cell_type": "code",
   "execution_count": null,
   "metadata": {},
   "outputs": [],
   "source": []
  },
  {
   "cell_type": "code",
   "execution_count": null,
   "metadata": {},
   "outputs": [],
   "source": []
  },
  {
   "cell_type": "code",
   "execution_count": null,
   "metadata": {},
   "outputs": [],
   "source": []
  },
  {
   "cell_type": "code",
   "execution_count": null,
   "metadata": {},
   "outputs": [],
   "source": []
  },
  {
   "cell_type": "code",
   "execution_count": null,
   "metadata": {},
   "outputs": [],
   "source": []
  },
  {
   "cell_type": "code",
   "execution_count": null,
   "metadata": {},
   "outputs": [],
   "source": []
  },
  {
   "cell_type": "code",
   "execution_count": null,
   "metadata": {},
   "outputs": [],
   "source": []
  },
  {
   "cell_type": "code",
   "execution_count": null,
   "metadata": {},
   "outputs": [],
   "source": []
  },
  {
   "cell_type": "code",
   "execution_count": null,
   "metadata": {},
   "outputs": [],
   "source": []
  },
  {
   "cell_type": "code",
   "execution_count": null,
   "metadata": {},
   "outputs": [],
   "source": []
  },
  {
   "cell_type": "code",
   "execution_count": null,
   "metadata": {},
   "outputs": [],
   "source": []
  },
  {
   "cell_type": "code",
   "execution_count": null,
   "metadata": {},
   "outputs": [],
   "source": []
  },
  {
   "cell_type": "code",
   "execution_count": null,
   "metadata": {},
   "outputs": [],
   "source": []
  },
  {
   "cell_type": "code",
   "execution_count": null,
   "metadata": {},
   "outputs": [],
   "source": []
  },
  {
   "cell_type": "code",
   "execution_count": null,
   "metadata": {},
   "outputs": [],
   "source": []
  },
  {
   "cell_type": "code",
   "execution_count": null,
   "metadata": {},
   "outputs": [],
   "source": []
  },
  {
   "cell_type": "code",
   "execution_count": null,
   "metadata": {},
   "outputs": [],
   "source": []
  },
  {
   "cell_type": "code",
   "execution_count": null,
   "metadata": {},
   "outputs": [],
   "source": []
  }
 ],
 "metadata": {
  "kernelspec": {
   "display_name": "Python 3",
   "language": "python",
   "name": "python3"
  },
  "language_info": {
   "codemirror_mode": {
    "name": "ipython",
    "version": 3
   },
   "file_extension": ".py",
   "mimetype": "text/x-python",
   "name": "python",
   "nbconvert_exporter": "python",
   "pygments_lexer": "ipython3",
   "version": "3.7.3"
  }
 },
 "nbformat": 4,
 "nbformat_minor": 2
}
