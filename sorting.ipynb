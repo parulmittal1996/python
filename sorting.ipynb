{
 "cells": [
  {
   "cell_type": "code",
   "execution_count": 6,
   "metadata": {},
   "outputs": [
    {
     "name": "stdout",
     "output_type": "stream",
     "text": [
      "[1, 3, 5, 12, 20]\n"
     ]
    }
   ],
   "source": [
    "a = [3,1,12,5,20]\n",
    "x=len(a)\n",
    "x = x-1\n",
    "while (x>1):\n",
    "    for i in range (0,x):\n",
    "        if (a[i]> a[i+1]):\n",
    "            k= a [i]\n",
    "            a[i]= a[i+1]\n",
    "            a[i+1] = k\n",
    "        else:\n",
    "            pass\n",
    "        x = x-1\n",
    "print (a)"
   ]
  },
  {
   "cell_type": "code",
   "execution_count": 6,
   "metadata": {},
   "outputs": [],
   "source": [
    "a = [3,1,12,5,20]\n",
    "a.sort()"
   ]
  },
  {
   "cell_type": "code",
   "execution_count": null,
   "metadata": {},
   "outputs": [],
   "source": []
  },
  {
   "cell_type": "code",
   "execution_count": null,
   "metadata": {},
   "outputs": [],
   "source": []
  },
  {
   "cell_type": "code",
   "execution_count": null,
   "metadata": {},
   "outputs": [],
   "source": []
  },
  {
   "cell_type": "code",
   "execution_count": 2,
   "metadata": {},
   "outputs": [
    {
     "name": "stdout",
     "output_type": "stream",
     "text": [
      "[1, 3, 5, 12, 20]\n"
     ]
    }
   ],
   "source": [
    "a =[3,1,12,5,20]\n",
    "x=len (a)\n",
    "for i in range(0,x-1):\n",
    "    if (a[i]>a [i+1]):\n",
    "        k=a[i]\n",
    "        a[i]=a[i+1]\n",
    "        a[i+1]= k\n",
    "    else:\n",
    "        pass\n",
    "    x=x-1\n",
    "print(a)"
   ]
  },
  {
   "cell_type": "code",
   "execution_count": 4,
   "metadata": {},
   "outputs": [
    {
     "name": "stdout",
     "output_type": "stream",
     "text": [
      "[3, 12, 5, 20, 1]\n"
     ]
    }
   ],
   "source": [
    "a =[3,1,12,5,20]\n",
    "x=len (a)\n",
    "for i in range(0,x-1):\n",
    "    if (a [i+1]>a[i]):\n",
    "        k=a[i+1]\n",
    "        a[i+1]=a[i]\n",
    "        a[i]= k\n",
    "    else:\n",
    "        pass\n",
    "x=x-1\n",
    "print(a)    "
   ]
  },
  {
   "cell_type": "code",
   "execution_count": 3,
   "metadata": {},
   "outputs": [
    {
     "name": "stdout",
     "output_type": "stream",
     "text": [
      "[20, 12, 5, 3, 1]\n"
     ]
    }
   ],
   "source": [
    "a =[3,1,12,5,20]\n",
    "x=len (a)\n",
    "while (x>1):\n",
    "    for i in range(0,x-1):\n",
    "        if (a [i+1]>a[i]):\n",
    "            k=a[i+1]\n",
    "            a[i+1]=a[i]\n",
    "            a[i]= k\n",
    "        else:\n",
    "            pass\n",
    "    x=x-1\n",
    "print(a)"
   ]
  },
  {
   "cell_type": "code",
   "execution_count": null,
   "metadata": {},
   "outputs": [],
   "source": []
  }
 ],
 "metadata": {
  "kernelspec": {
   "display_name": "Python 3",
   "language": "python",
   "name": "python3"
  },
  "language_info": {
   "codemirror_mode": {
    "name": "ipython",
    "version": 3
   },
   "file_extension": ".py",
   "mimetype": "text/x-python",
   "name": "python",
   "nbconvert_exporter": "python",
   "pygments_lexer": "ipython3",
   "version": "3.7.3"
  }
 },
 "nbformat": 4,
 "nbformat_minor": 2
}
